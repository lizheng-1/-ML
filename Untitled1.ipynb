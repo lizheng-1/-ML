{
 "cells": [
  {
   "cell_type": "code",
   "execution_count": 3,
   "metadata": {},
   "outputs": [
    {
     "data": {
      "text/html": [
       "<div>\n",
       "<style scoped>\n",
       "    .dataframe tbody tr th:only-of-type {\n",
       "        vertical-align: middle;\n",
       "    }\n",
       "\n",
       "    .dataframe tbody tr th {\n",
       "        vertical-align: top;\n",
       "    }\n",
       "\n",
       "    .dataframe thead th {\n",
       "        text-align: right;\n",
       "    }\n",
       "</style>\n",
       "<table border=\"1\" class=\"dataframe\">\n",
       "  <thead>\n",
       "    <tr style=\"text-align: right;\">\n",
       "      <th></th>\n",
       "      <th>Unnamed: 0</th>\n",
       "      <th>开票日期</th>\n",
       "      <th>金额</th>\n",
       "      <th>税额</th>\n",
       "      <th>价税合计</th>\n",
       "      <th>发票状态</th>\n",
       "    </tr>\n",
       "  </thead>\n",
       "  <tbody>\n",
       "    <tr>\n",
       "      <th>0</th>\n",
       "      <td>1</td>\n",
       "      <td>2017-07-18</td>\n",
       "      <td>-943.40</td>\n",
       "      <td>-56.60</td>\n",
       "      <td>-1000.00</td>\n",
       "      <td>有效发票</td>\n",
       "    </tr>\n",
       "    <tr>\n",
       "      <th>1</th>\n",
       "      <td>1</td>\n",
       "      <td>2017-07-18</td>\n",
       "      <td>-4780.24</td>\n",
       "      <td>-286.81</td>\n",
       "      <td>-5067.05</td>\n",
       "      <td>有效发票</td>\n",
       "    </tr>\n",
       "    <tr>\n",
       "      <th>2</th>\n",
       "      <td>1</td>\n",
       "      <td>2017-07-18</td>\n",
       "      <td>943.40</td>\n",
       "      <td>56.60</td>\n",
       "      <td>1000.00</td>\n",
       "      <td>有效发票</td>\n",
       "    </tr>\n",
       "    <tr>\n",
       "      <th>3</th>\n",
       "      <td>1</td>\n",
       "      <td>2017-07-18</td>\n",
       "      <td>4780.24</td>\n",
       "      <td>286.81</td>\n",
       "      <td>5067.05</td>\n",
       "      <td>有效发票</td>\n",
       "    </tr>\n",
       "    <tr>\n",
       "      <th>4</th>\n",
       "      <td>1</td>\n",
       "      <td>2017-08-07</td>\n",
       "      <td>326.21</td>\n",
       "      <td>9.79</td>\n",
       "      <td>336.00</td>\n",
       "      <td>有效发票</td>\n",
       "    </tr>\n",
       "    <tr>\n",
       "      <th>...</th>\n",
       "      <td>...</td>\n",
       "      <td>...</td>\n",
       "      <td>...</td>\n",
       "      <td>...</td>\n",
       "      <td>...</td>\n",
       "      <td>...</td>\n",
       "    </tr>\n",
       "    <tr>\n",
       "      <th>210942</th>\n",
       "      <td>122</td>\n",
       "      <td>2019-04-17</td>\n",
       "      <td>223.30</td>\n",
       "      <td>6.70</td>\n",
       "      <td>230.00</td>\n",
       "      <td>有效发票</td>\n",
       "    </tr>\n",
       "    <tr>\n",
       "      <th>210943</th>\n",
       "      <td>122</td>\n",
       "      <td>2020-01-10</td>\n",
       "      <td>264.15</td>\n",
       "      <td>15.85</td>\n",
       "      <td>280.00</td>\n",
       "      <td>有效发票</td>\n",
       "    </tr>\n",
       "    <tr>\n",
       "      <th>210944</th>\n",
       "      <td>123</td>\n",
       "      <td>2017-12-15</td>\n",
       "      <td>264.15</td>\n",
       "      <td>15.85</td>\n",
       "      <td>280.00</td>\n",
       "      <td>有效发票</td>\n",
       "    </tr>\n",
       "    <tr>\n",
       "      <th>210945</th>\n",
       "      <td>123</td>\n",
       "      <td>2018-12-29</td>\n",
       "      <td>264.15</td>\n",
       "      <td>15.85</td>\n",
       "      <td>280.00</td>\n",
       "      <td>有效发票</td>\n",
       "    </tr>\n",
       "    <tr>\n",
       "      <th>210946</th>\n",
       "      <td>123</td>\n",
       "      <td>2019-12-18</td>\n",
       "      <td>264.15</td>\n",
       "      <td>15.85</td>\n",
       "      <td>280.00</td>\n",
       "      <td>有效发票</td>\n",
       "    </tr>\n",
       "  </tbody>\n",
       "</table>\n",
       "<p>210947 rows × 6 columns</p>\n",
       "</div>"
      ],
      "text/plain": [
       "        Unnamed: 0       开票日期       金额      税额     价税合计  发票状态\n",
       "0                1 2017-07-18  -943.40  -56.60 -1000.00  有效发票\n",
       "1                1 2017-07-18 -4780.24 -286.81 -5067.05  有效发票\n",
       "2                1 2017-07-18   943.40   56.60  1000.00  有效发票\n",
       "3                1 2017-07-18  4780.24  286.81  5067.05  有效发票\n",
       "4                1 2017-08-07   326.21    9.79   336.00  有效发票\n",
       "...            ...        ...      ...     ...      ...   ...\n",
       "210942         122 2019-04-17   223.30    6.70   230.00  有效发票\n",
       "210943         122 2020-01-10   264.15   15.85   280.00  有效发票\n",
       "210944         123 2017-12-15   264.15   15.85   280.00  有效发票\n",
       "210945         123 2018-12-29   264.15   15.85   280.00  有效发票\n",
       "210946         123 2019-12-18   264.15   15.85   280.00  有效发票\n",
       "\n",
       "[210947 rows x 6 columns]"
      ]
     },
     "execution_count": 3,
     "metadata": {},
     "output_type": "execute_result"
    }
   ],
   "source": [
    "import pandas as pd\n",
    "data12=pd.read_excel('C:/Users/李征/Documents/a国赛/12.xlsx')\n",
    "data12"
   ]
  },
  {
   "cell_type": "code",
   "execution_count": 5,
   "metadata": {},
   "outputs": [
    {
     "name": "stdout",
     "output_type": "stream",
     "text": [
      "<class 'pandas.core.frame.DataFrame'>\n",
      "RangeIndex: 210947 entries, 0 to 210946\n",
      "Data columns (total 6 columns):\n",
      " #   Column      Non-Null Count   Dtype         \n",
      "---  ------      --------------   -----         \n",
      " 0   Unnamed: 0  210947 non-null  int64         \n",
      " 1   开票日期        210947 non-null  datetime64[ns]\n",
      " 2   金额          210947 non-null  float64       \n",
      " 3   税额          210947 non-null  float64       \n",
      " 4   价税合计        210947 non-null  float64       \n",
      " 5   发票状态        210947 non-null  object        \n",
      "dtypes: datetime64[ns](1), float64(3), int64(1), object(1)\n",
      "memory usage: 9.7+ MB\n"
     ]
    }
   ],
   "source": [
    "data12.info()"
   ]
  },
  {
   "cell_type": "code",
   "execution_count": 6,
   "metadata": {},
   "outputs": [
    {
     "data": {
      "text/html": [
       "<div>\n",
       "<style scoped>\n",
       "    .dataframe tbody tr th:only-of-type {\n",
       "        vertical-align: middle;\n",
       "    }\n",
       "\n",
       "    .dataframe tbody tr th {\n",
       "        vertical-align: top;\n",
       "    }\n",
       "\n",
       "    .dataframe thead th {\n",
       "        text-align: right;\n",
       "    }\n",
       "</style>\n",
       "<table border=\"1\" class=\"dataframe\">\n",
       "  <thead>\n",
       "    <tr style=\"text-align: right;\">\n",
       "      <th></th>\n",
       "      <th>Unnamed: 0</th>\n",
       "      <th>金额</th>\n",
       "      <th>税额</th>\n",
       "      <th>价税合计</th>\n",
       "    </tr>\n",
       "  </thead>\n",
       "  <tbody>\n",
       "    <tr>\n",
       "      <th>count</th>\n",
       "      <td>210947.000000</td>\n",
       "      <td>2.109470e+05</td>\n",
       "      <td>2.109470e+05</td>\n",
       "      <td>2.109470e+05</td>\n",
       "    </tr>\n",
       "    <tr>\n",
       "      <th>mean</th>\n",
       "      <td>21.743523</td>\n",
       "      <td>4.655349e+04</td>\n",
       "      <td>6.345313e+03</td>\n",
       "      <td>5.289880e+04</td>\n",
       "    </tr>\n",
       "    <tr>\n",
       "      <th>std</th>\n",
       "      <td>23.486142</td>\n",
       "      <td>5.612044e+05</td>\n",
       "      <td>8.880450e+04</td>\n",
       "      <td>6.494968e+05</td>\n",
       "    </tr>\n",
       "    <tr>\n",
       "      <th>min</th>\n",
       "      <td>1.000000</td>\n",
       "      <td>-9.823009e+06</td>\n",
       "      <td>-1.452991e+06</td>\n",
       "      <td>-1.110000e+07</td>\n",
       "    </tr>\n",
       "    <tr>\n",
       "      <th>25%</th>\n",
       "      <td>6.000000</td>\n",
       "      <td>2.051300e+02</td>\n",
       "      <td>1.379000e+01</td>\n",
       "      <td>2.240000e+02</td>\n",
       "    </tr>\n",
       "    <tr>\n",
       "      <th>50%</th>\n",
       "      <td>13.000000</td>\n",
       "      <td>4.867300e+02</td>\n",
       "      <td>4.256000e+01</td>\n",
       "      <td>5.200000e+02</td>\n",
       "    </tr>\n",
       "    <tr>\n",
       "      <th>75%</th>\n",
       "      <td>32.000000</td>\n",
       "      <td>8.640780e+03</td>\n",
       "      <td>2.912600e+02</td>\n",
       "      <td>9.480900e+03</td>\n",
       "    </tr>\n",
       "    <tr>\n",
       "      <th>max</th>\n",
       "      <td>123.000000</td>\n",
       "      <td>9.999985e+06</td>\n",
       "      <td>1.699990e+06</td>\n",
       "      <td>1.169993e+07</td>\n",
       "    </tr>\n",
       "  </tbody>\n",
       "</table>\n",
       "</div>"
      ],
      "text/plain": [
       "          Unnamed: 0            金额            税额          价税合计\n",
       "count  210947.000000  2.109470e+05  2.109470e+05  2.109470e+05\n",
       "mean       21.743523  4.655349e+04  6.345313e+03  5.289880e+04\n",
       "std        23.486142  5.612044e+05  8.880450e+04  6.494968e+05\n",
       "min         1.000000 -9.823009e+06 -1.452991e+06 -1.110000e+07\n",
       "25%         6.000000  2.051300e+02  1.379000e+01  2.240000e+02\n",
       "50%        13.000000  4.867300e+02  4.256000e+01  5.200000e+02\n",
       "75%        32.000000  8.640780e+03  2.912600e+02  9.480900e+03\n",
       "max       123.000000  9.999985e+06  1.699990e+06  1.169993e+07"
      ]
     },
     "execution_count": 6,
     "metadata": {},
     "output_type": "execute_result"
    }
   ],
   "source": [
    "data12.describe()"
   ]
  },
  {
   "cell_type": "code",
   "execution_count": 8,
   "metadata": {},
   "outputs": [
    {
     "data": {
      "text/plain": [
       "array([0.059995760016959936, 0.05999907954412331, 0.059995760016959936,\n",
       "       ..., 0.06000378572780617, 0.06000378572780617, 0.06000378572780617],\n",
       "      dtype=object)"
      ]
     },
     "execution_count": 8,
     "metadata": {},
     "output_type": "execute_result"
    }
   ],
   "source": [
    "#all1=[]\n",
    "pre=data12.values[:,3]/data12.values[:,2]\n",
    "#all1.append(pre)\n",
    "pre"
   ]
  },
  {
   "cell_type": "code",
   "execution_count": 12,
   "metadata": {},
   "outputs": [
    {
     "data": {
      "text/plain": [
       "[<matplotlib.lines.Line2D at 0x1735576f348>]"
      ]
     },
     "execution_count": 12,
     "metadata": {},
     "output_type": "execute_result"
    },
    {
     "data": {
      "image/png": "[encoded data removed]",
      "text/plain": [
       "<Figure size 432x288 with 1 Axes>"
      ]
     },
     "metadata": {
      "needs_background": "light"
     },
     "output_type": "display_data"
    }
   ],
   "source": [
    "import matplotlib.pyplot as plt\n",
    "plt.plot(pre)"
   ]
  },
  {
   "cell_type": "code",
   "execution_count": 42,
   "metadata": {},
   "outputs": [],
   "source": [
    "\n",
    "# for i in data12.values[:,5]:\n",
    "#     print(type(i))\n",
    "#     if i==\"作废发票\":\n",
    "# #         print(i)\n",
    "#删除作废发票\n",
    "new12=data12.drop(data12.loc[(data12['发票状态']=='作废发票')].index)"
   ]
  },
  {
   "cell_type": "code",
   "execution_count": 53,
   "metadata": {},
   "outputs": [
    {
     "data": {
      "text/plain": [
       "[928666458.5799991,\n",
       " 7192305.329999357,\n",
       " 2330014.04,\n",
       " 52240851.30000001,\n",
       " 30109452.240000267,\n",
       " 20371151.320000164,\n",
       " 3951049.7199999243,\n",
       " 8545085.479999552,\n",
       " 1811202.830000008,\n",
       " 321183.320000003,\n",
       " 12022172.880000103,\n",
       " 7092552.549999992,\n",
       " 12360647.78999901,\n",
       " 15325354.940000007,\n",
       " 565485.4400000001,\n",
       " 15582.13,\n",
       " 13639802.809999805,\n",
       " 10765564.829999454,\n",
       " 30237854.260000076,\n",
       " 29423723.98000009,\n",
       " 9299540.589999976,\n",
       " 9944702.44000003,\n",
       " 27462104.20000015,\n",
       " 11146866.489999915,\n",
       " 1046329.5899999995,\n",
       " 5789358.0900000045,\n",
       " 4931994.449999993,\n",
       " 158700.2600000002,\n",
       " 26073.54,\n",
       " 3211212.7499999967,\n",
       " 651302.5999999993,\n",
       " 192357.92000000158,\n",
       " 1355086.9599999995,\n",
       " 4210685.350000002,\n",
       " 3952811.700000004,\n",
       " 3013287.349999998,\n",
       " 6874784.239999998,\n",
       " 1143083.0400000003,\n",
       " 23054.099999999995,\n",
       " 229843.12000000113,\n",
       " 323842.9100000005,\n",
       " 1343.3700000000001,\n",
       " 666583.1,\n",
       " 4570058.250000004,\n",
       " 3107771.400000001,\n",
       " 3231416.0199999614,\n",
       " 6963931.379999979,\n",
       " 1834853.7499999993,\n",
       " 1362423.630000007,\n",
       " 307377.62999999995,\n",
       " 2195047.03,\n",
       " 2225471.760000004,\n",
       " 2473168.6599999843,\n",
       " 699056.1700000018,\n",
       " 811001.2800000001,\n",
       " 4096530.489999997,\n",
       " 4104852.1299999985,\n",
       " 468865.7900000012,\n",
       " 3048346.5299999905,\n",
       " 679213.6999999993,\n",
       " 103077.88999999997,\n",
       " 71559.55999999997,\n",
       " 3927694.3299999996,\n",
       " 3678.8899999999994,\n",
       " 484325.0800000042,\n",
       " 320218.9600000008,\n",
       " 69419.7600000001,\n",
       " 41.89,\n",
       " 94.66,\n",
       " 805373.6600000008,\n",
       " 122558.67000000004,\n",
       " 132512.72,\n",
       " 80964.15999999977,\n",
       " 265.28999999999996,\n",
       " 167134.3199999999,\n",
       " 63113.429999999935,\n",
       " 58694.590000000004,\n",
       " 529422.34,\n",
       " 398068.07999999996,\n",
       " 137644.89000000033,\n",
       " 308099.8600000001,\n",
       " 230092.68000000052,\n",
       " 2929777.329999954,\n",
       " 224469.18999999994,\n",
       " 23912.949999999935,\n",
       " 10067.470000000003,\n",
       " 169753.4500000003,\n",
       " 35389.39999999997,\n",
       " 135740.57,\n",
       " 27539.979999999974,\n",
       " 210178.80999999994,\n",
       " 10707.450000000006,\n",
       " 18085.300000000014,\n",
       " 2296.13,\n",
       " 64.42,\n",
       " 116468.59000000001,\n",
       " 1125.3000000000002,\n",
       " 9975.63,\n",
       " 617104.1000000002,\n",
       " 2254.2200000000003,\n",
       " 7256.2300000000005,\n",
       " 486776.4700000003,\n",
       " 57322.04,\n",
       " 15.85,\n",
       " 1043.08,\n",
       " 2387.97,\n",
       " 6272.620000000001,\n",
       " 6925.95,\n",
       " 113.56,\n",
       " 76.61,\n",
       " 55339.629999999976,\n",
       " 139319.19999999998,\n",
       " 67667.36000000003,\n",
       " 82900.90999999999,\n",
       " 31.7,\n",
       " 200.37999999999997,\n",
       " 411.21000000000004,\n",
       " 17172.04,\n",
       " 30005.19,\n",
       " 1939.269999999999,\n",
       " 177633.70000000004,\n",
       " 3128.6,\n",
       " 47.55]"
      ]
     },
     "execution_count": 53,
     "metadata": {},
     "output_type": "execute_result"
    }
   ],
   "source": [
    "sums=[]\n",
    "for i in range(1,124):\n",
    "    name=data12.loc[(data12['Unnamed: 0']==i)][\"税额\"]\n",
    "    #print(name)\n",
    "    sums.append(sum(name))\n",
    "sums"
   ]
  },
  {
   "cell_type": "code",
   "execution_count": 54,
   "metadata": {},
   "outputs": [
    {
     "data": {
      "text/plain": [
       "123"
      ]
     },
     "execution_count": 54,
     "metadata": {},
     "output_type": "execute_result"
    }
   ],
   "source": []
  },
  {
   "cell_type": "code",
   "execution_count": 44,
   "metadata": {},
   "outputs": [
    {
     "name": "stdout",
     "output_type": "stream",
     "text": [
      "<class 'pandas.core.frame.DataFrame'>\n",
      "Int64Index: 203339 entries, 0 to 210946\n",
      "Data columns (total 6 columns):\n",
      " #   Column      Non-Null Count   Dtype         \n",
      "---  ------      --------------   -----         \n",
      " 0   Unnamed: 0  203339 non-null  int64         \n",
      " 1   开票日期        203339 non-null  datetime64[ns]\n",
      " 2   金额          203339 non-null  float64       \n",
      " 3   税额          203339 non-null  float64       \n",
      " 4   价税合计        203339 non-null  float64       \n",
      " 5   发票状态        203339 non-null  object        \n",
      "dtypes: datetime64[ns](1), float64(3), int64(1), object(1)\n",
      "memory usage: 10.9+ MB\n"
     ]
    }
   ],
   "source": [
    "new12.info()"
   ]
  },
  {
   "cell_type": "code",
   "execution_count": null,
   "metadata": {},
   "outputs": [],
   "source": []
  },
  {
   "cell_type": "code",
   "execution_count": null,
   "metadata": {},
   "outputs": [],
   "source": [
    "\n"
   ]
  },
  {
   "cell_type": "code",
   "execution_count": null,
   "metadata": {},
   "outputs": [],
   "source": []
  },
  {
   "cell_type": "code",
   "execution_count": null,
   "metadata": {},
   "outputs": [],
   "source": []
  }
 ],
 "metadata": {
  "kernelspec": {
   "display_name": "Python 3",
   "language": "python",
   "name": "python3"
  },
  "language_info": {
   "codemirror_mode": {
    "name": "ipython",
    "version": 3
   },
   "file_extension": ".py",
   "mimetype": "text/x-python",
   "name": "python",
   "nbconvert_exporter": "python",
   "pygments_lexer": "ipython3",
   "version": "3.7.4"
  },
  "varInspector": {
   "cols": {
    "lenName": 16,
    "lenType": 16,
    "lenVar": 40
   },
   "kernels_config": {
    "python": {
     "delete_cmd_postfix": "",
     "delete_cmd_prefix": "del ",
     "library": "var_list.py",
     "varRefreshCmd": "print(var_dic_list())"
    },
    "r": {
     "delete_cmd_postfix": ") ",
     "delete_cmd_prefix": "rm(",
     "library": "var_list.r",
     "varRefreshCmd": "cat(var_dic_list()) "
    }
   },
   "types_to_exclude": [
    "module",
    "function",
    "builtin_function_or_method",
    "instance",
    "_Feature"
   ],
   "window_display": false
  }
 },
 "nbformat": 4,
 "nbformat_minor": 4
}
