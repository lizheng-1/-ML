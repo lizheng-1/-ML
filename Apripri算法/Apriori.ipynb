{
 "cells": [
  {
   "cell_type": "markdown",
   "metadata": {
    "collapsed": false
   },
   "source": [
    "# create一个项集并筛选"
   ]
  },
  {
   "cell_type": "code",
   "execution_count": 1,
   "metadata": {
    "collapsed": false
   },
   "outputs": [
    {
     "data": {
      "text/plain": [
       "[[1, 3, 4], [2, 3, 5], [1, 2, 3, 5], [2, 5]]"
      ]
     },
     "execution_count": 1,
     "metadata": {},
     "output_type": "execute_result"
    }
   ],
   "source": [
    "#创建一组数据\n",
    "def loadDataSet():\n",
    "    dataset=[[1, 3, 4], [2, 3, 5], [1, 2, 3, 5], [2, 5]]\n",
    "    return dataset\n",
    "dataset=loadDataSet()\n",
    "dataset"
   ]
  },
  {
   "cell_type": "markdown",
   "metadata": {
    "collapsed": false
   },
   "source": [
    "由于算法一开始是从输入数据集中提取候选项集列表, 所以这里需要一个特殊的函数来处理--frozenset类型。\n",
    "frozenset是指被冰冻\"的集合，也就是用户不能修改他们。这里必须要用frozenset而非set类型，是因为后面我们\n",
    "要将这些集合作为字典键值使用。\n",
    " \n",
    "  \n",
    "  该函数流程是:首先创建一个空列表，用来储存所有不重复的项值。接下来遍历数据集中所有交易记录，对于每\n",
    "条交易记录，遍历记录中的每一个项。如果该项没有在C1中出现过,那么就把它添加到C1中，需要注意的\n",
    "是,并非简单地添加物品项，而是添加只包含该物品项的一个集合(此处用集合或者列表都可),循环完毕后，\n",
    "对整个C1进行排序并将其中每个单元素集合映射到frozenset()，最后返回frozenset的列表。\n",
    "\n"
   ]
  },
  {
   "cell_type": "code",
   "execution_count": 2,
   "metadata": {
    "collapsed": false
   },
   "outputs": [
    {
     "data": {
      "text/plain": [
       "[frozenset({1}),\n",
       " frozenset({2}),\n",
       " frozenset({3}),\n",
       " frozenset({4}),\n",
       " frozenset({5})]"
      ]
     },
     "execution_count": 2,
     "metadata": {},
     "output_type": "execute_result"
    }
   ],
   "source": [
    "# 创建集合 C1。即对 dataSet 进行去重，排序，放入 list 中，然后转换所有的元素为 frozenset将其冰冻，不能修改\n",
    "\n",
    "def createC1(dataSet):\n",
    "    C1 = []\n",
    "    for transaction in dataSet:\n",
    "        #print(transaction)\n",
    "        for item in transaction:\n",
    "            #print(item)\n",
    "            if  [item] not in C1:\n",
    "                #print([item])\n",
    "                C1.append([item]) # 遍历所有的元素，如果不在 C1 出现过，那么就 append\n",
    "        #print(C1) \n",
    "    C1.sort()           \n",
    "    return list(map(frozenset, C1))#  # frozenset 表示冻结的 set 集合，元素无改变；可以把它当字典的 key 来使用\n",
    "c1=createC1(dataset)\n",
    "c1"
   ]
  },
  {
   "cell_type": "code",
   "execution_count": null,
   "metadata": {
    "collapsed": false
   },
   "outputs": [],
   "source": []
  },
  {
   "cell_type": "code",
   "execution_count": 3,
   "metadata": {
    "collapsed": false
   },
   "outputs": [
    {
     "data": {
      "text/plain": [
       "([frozenset({1}), frozenset({3}), frozenset({2}), frozenset({5})],\n",
       " {frozenset({1}): 0.5,\n",
       "  frozenset({3}): 0.75,\n",
       "  frozenset({4}): 0.25,\n",
       "  frozenset({2}): 0.75,\n",
       "  frozenset({5}): 0.75})"
      ]
     },
     "execution_count": 3,
     "metadata": {},
     "output_type": "execute_result"
    }
   ],
   "source": [
    "## 计算候选数据集 CK 在数据集 D 中的支持度，并返回支持度大于最小支持度（minSupport）的数据\r\n",
    "'''scanD（计算候选数据集 CK 在数据集 D 中的支持度，并返回支持度大于最小支持度 minSupport 的数据）\r\n",
    "\r\n",
    "    Args:\r\n",
    "        D 数据集\r\n",
    "        Ck 候选项集列表\r\n",
    "        minSupport 最小支持度\r\n",
    "    Returns:\r\n",
    "        retList 支持度大于 minSupport 的集合\r\n",
    "        supportData 候选项集支持度数据\r\n",
    "'''\r\n",
    "def scanD(D, Ck, minSupport):\r\n",
    "\r\n",
    "    #ssCnt 临时存放选数据集 Ck 的频率. 例如: a->10, b->5, c->8\r\n",
    "    ssCnt = {}\r\n",
    "    for tid in D:\r\n",
    "        for can in Ck:\r\n",
    "            #issubset方法用于判断集合的所有元素是否都包含在指定集合中，如果是则返回 True，否则返回 False。\r\n",
    "            if can.issubset(tid):\r\n",
    "                #判断can是否是tid的子集，has_key() 函数用于判断键key是否存在于字典中，如果键在字典dict里返回true，否则返回false。\r\n",
    "                if can not in ssCnt.keys():\r\n",
    "                    ssCnt[can]=1\r\n",
    "                else:\r\n",
    "                    ssCnt[can] += 1\r\n",
    "    #print(ssCnt)\r\n",
    "#上面这一部分是统计每个值或者特征的频次\r\n",
    "    \r\n",
    "#下面这部分是计算每个值或者特征的支持度\r\n",
    "    numItems = float(len(D))# 数据集 D 的数量\r\n",
    "    retList = [ ]\r\n",
    "    supportData = { }\r\n",
    "    # 支持度 = 候选项（key）出现的次数 / 所有数据集的数量\r\n",
    "    for key in ssCnt: \r\n",
    "        support = ssCnt[key] /numItems\r\n",
    "        # 在 retList 的首位插入元素，只存储支持度满足频繁项集的值\r\n",
    "        if support >= minSupport:\r\n",
    "            #retlist只统计支持度大于minsupport的\r\n",
    "            retList.append(key)\r\n",
    "        # 存储所有的候选项（key）和对应的支持度（support）\r\n",
    "        supportData[key] = support\r\n",
    "    return retList, supportData\r\n",
    "\r\n",
    "retList,supportData=scanD(dataset,c1,0.5)\r\n",
    "retList,supportData"
   ]
  },
  {
   "cell_type": "markdown",
   "metadata": {
    "collapsed": false
   },
   "source": [
    "从运行结果来看，frozenset({4}): 0.25,就被舍弃了，没有放入l1中"
   ]
  },
  {
   "cell_type": "code",
   "execution_count": 4,
   "metadata": {
    "collapsed": false
   },
   "outputs": [
    {
     "name": "stdout",
     "output_type": "stream",
     "text": [
      "[frozenset({1}), frozenset({3}), frozenset({2}), frozenset({5})]\n",
      "{frozenset({1}): 0.5, frozenset({3}): 0.75, frozenset({4}): 0.25, frozenset({2}): 0.75, frozenset({5}): 0.75}\n"
     ]
    }
   ],
   "source": [
    "#创建一组数据\n",
    "def loadDataSet( ):\n",
    "    dataset=[[1, 3, 4], [2, 3, 5], [1, 2, 3, 5], [2, 5]]\n",
    "    return dataset\n",
    "\n",
    "def createC1(dataSet):\n",
    "    C1 = []\n",
    "    for transaction in dataSet:\n",
    "        #print(transaction)\n",
    "        for item in transaction:\n",
    "            #print(item)\n",
    "            if not {item} in C1:\n",
    "                #print([item])\n",
    "                C1.append({item})\n",
    "        #print(C1)\n",
    "    C1.sort()\n",
    "    #就是对c1用frozenset的方法,frozenset就是把这个数集合冰冻起来不能进行修改\n",
    "    return list(map(frozenset, C1))# use frozen set so we can use it as a key in a dict\n",
    "\n",
    "c1=createC1(dataset)\n",
    "#三个参数 分别是数据集、候选项集列表Ck以及最小支持度minSupport\n",
    "def scanD(D, Ck, minSupport):\n",
    "    ssCnt = { }\n",
    "    for tid in D:\n",
    "        for can in Ck:\n",
    "            #issubset方法用于判断集合的所有元素是否都包含在指定集合中，如果是则返回 True，否则返回 False。\n",
    "            if can.issubset(tid):\n",
    "                #判断can是否是tid的子集，has_key() 函数用于判断键key是否存在于字典中，如果键在字典dict里返回true，否则返回false。\n",
    "                if can not in ssCnt:\n",
    "                    ssCnt[can]=1\n",
    "                else:\n",
    "                    ssCnt[can] += 1\n",
    "\n",
    "    numItems = float(len(D))\n",
    "    retList = [ ]\n",
    "    supportData = { }\n",
    "    for key in ssCnt:\n",
    "        support = ssCnt[key] /numItems\n",
    "        supportData[key] = support\n",
    "        if support >= minSupport:\n",
    "            retList.append(key)\n",
    "    return retList, supportData\n",
    "dataset=loadDataSet( )\n",
    "c1=createC1(dataset)\n",
    "l1,suppordata=scanD(dataset,c1,0.5)\n",
    "print(l1)\n",
    "print(suppordata)\n"
   ]
  },
  {
   "cell_type": "markdown",
   "metadata": {
    "collapsed": false
   },
   "source": [
    "# 组织完整的Apriori"
   ]
  },
  {
   "cell_type": "code",
   "execution_count": null,
   "metadata": {
    "collapsed": false
   },
   "outputs": [],
   "source": [
    "\n",
    "'''\n",
    "当集合中项的个数大于0时:  \n",
    "    构建一个k-项集组成的列表   \n",
    "    检查数据确保每个项集都是频繁的   \n",
    "    保留频繁项集并构建(k+1)-项集组成列表\n",
    "    '''\n"
   ]
  },
  {
   "cell_type": "code",
   "execution_count": 35,
   "metadata": {
    "collapsed": false
   },
   "outputs": [],
   "source": [
    "\n",
    "\n",
    "'''aprioriGen（输入频繁项集列表 Lk 与返回的元素个数 k，然后输出候选项集 Ck。\n",
    "       例如: 以 {0},{1},{2} 为输入且 k = 2 则输出 {0,1}, {0,2}, {1,2}. \n",
    "       以 {0,1},{0,2},{1,2} 为输入且 k = 3 则输出{0,1,2}\n",
    "       仅需要计算一次，不需要将所有的结果计算出来，然后进行去重操作,这是一个更高效的算法）\n",
    "\n",
    "    Args:\n",
    "        Lk 频繁项集列表\n",
    "        k 返回的项集元素个数（若元素的前 k-2 相同，就进行合并）\n",
    "    Returns:\n",
    "        retList 元素两两合并的数据集\n",
    "'''\n",
    "def aprioriGen(Lk, k): \n",
    "\n",
    "    retList = [ ]\n",
    "    lenLk = len(Lk)\n",
    "    for i in range(lenLk):\n",
    "        for j in range(i+1, lenLk):\n",
    "            #print(i,j)\n",
    "            L1 = list(Lk[i])[:k-2]\n",
    "            L1.sort( )\n",
    "            #print(list(L1))\n",
    "            L2 = list(Lk[j])[:k-2]\n",
    "            L2.sort( )\n",
    "            #print(list(L2 ))\n",
    "            if L1==L2: \n",
    "                #这里使用集合的并操作来完成，在Python中对应操作符 |\n",
    "                retList.append(Lk[i] | Lk[j]) \n",
    "            print(retList)\n",
    "    return retList"
   ]
  },
  {
   "cell_type": "markdown",
   "metadata": {
    "collapsed": false
   },
   "source": [
    "[解惑]这里的k-2获取会让人有点困惑。加入我们要利用{0}、{1}、 {2} 构建{0,1}、{0,2}、 {1,2} 时实际上试讲单\n",
    "个项组合到一块。现在利用{0,1}、{0,2}、 {1,2}来创建 三元素项集，如果两两组合的话，会得到{0,1,2}、 {0,1,2}、\n",
    "{0,1,2}三个一模一样的结果。也就是说，同样的结果集合会重复3次。而我们需要的是尽可能少的遍历列表。现\n",
    "在，如果比较集合{0,1}、{0,2}、 {1,2}的第一个元素并只对第一个元素相同的集合(即{0,1}、{0,2}) 进行并集操作\n",
    "的话，就可以得到{0,1,2}, 在这个过程中就执行了一次操作! 这样就不需要遍历列表来寻找非重复值啦。\n"
   ]
  },
  {
   "cell_type": "code",
   "execution_count": 124,
   "metadata": {
    "collapsed": false
   },
   "outputs": [
    {
     "data": {
      "text/plain": [
       "[frozenset({1}), frozenset({3}), frozenset({2}), frozenset({5})]"
      ]
     },
     "execution_count": 124,
     "metadata": {},
     "output_type": "execute_result"
    }
   ],
   "source": [
    "[l1][0]"
   ]
  },
  {
   "cell_type": "code",
   "execution_count": 5,
   "metadata": {
    "collapsed": false
   },
   "outputs": [],
   "source": [
    "\n",
    "\n",
    "\"\"\"apriori（首先构建集合 C1，然后扫描数据集来判断这些只有一个元素的项集是否满足最小支持度的要求。\n",
    "那么满足最小支持度要求的项集构成集合 L1。\n",
    "然后 L1 中的元素相互组合成 C2，C2 再进一步过滤变成 L2，然后以此类推，知道 Cn 的长度为 0 时结束，即可找出所有频繁项集的支持度。）\n",
    "\n",
    "    Args:\n",
    "        dataSet 原始数据集\n",
    "        minSupport 支持度的阈值\n",
    "    Returns:\n",
    "        L 频繁项集的全集\n",
    "        supportData 所有元素和支持度的全集\n",
    "\"\"\"\n",
    "def apriori(D, minSupport = 0.5):\n",
    "    # C1 即对 dataSet 进行去重，排序，放入 list 中，然后转换所有的元素为 frozenset\n",
    "    C1 = createC1(D)\n",
    "    # 计算候选数据集 C1 在数据集 D 中的支持度，并返回支持度大于 minSupport 的数据\n",
    "    L1, supportData = scanD(D, C1, minSupport)\n",
    "    # L 加了一层 list, L 一共 2 层 list\n",
    "    L = [L1]\n",
    "    k = 2\n",
    "     # 判断 L 的第 k-2 项的数据长度是否 > 0。\n",
    "     #第一次执行时 L 为 [[frozenset([1]), frozenset([3]), frozenset([2]), frozenset([5])]]。\n",
    "     #L[k-2]=L[0]=[frozenset([1]), frozenset([3]), frozenset([2]), frozenset([5])]\n",
    "     #最后面k += 1\n",
    "     #第二次执行L为 [frozenset({1}), frozenset({3}), frozenset({2}), frozenset({5})],\n",
    "     #[frozenset({1, 3}), frozenset({2, 3}), frozenset({3, 5}), frozenset({2, 5})]\n",
    "     #L[k-2]=L[1]=[[frozenset({1, 3}), frozenset({2, 3}), frozenset({3, 5}), frozenset({2, 5})]]\n",
    "     #最后面 k += 1\n",
    "    while (len(L[k-2]) > 0):\n",
    "        Ck = aprioriGen(L[k-2], k)# 例如: 以 {0},{1},{2} 为输入且 k = 2 则输出 {0,1}, {0,2}, {1,2}. 以 {0,1},{0,2},{1,2} 为输入且 k = 3 则输出 {0,1,2}\n",
    "        #print ('Ck', Ck)\n",
    "        print(\"***\",retList)\n",
    "        Lk, supK = scanD(D, Ck, minSupport) # 计算候选数据集 CK 在数据集 D 中的支持度，并返回支持度大于 minSupport 的数据\n",
    "        # 保存所有候选项集的支持度，如果字典没有，就追加元素，如果有，就更新元素\n",
    "        supportData.update(supK)\n",
    "        # Lk 表示满足频繁子项的集合，L 元素在增加，例如: \n",
    "        # l=[[set(1), set(2), set(3)]]\n",
    "        # l=[[set(1), set(2), set(3)], [set(1, 2), set(2, 3)]]\n",
    "        L.append(Lk)\n",
    "        print(L)\n",
    "        k += 1\n",
    "    return L, supportData"
   ]
  },
  {
   "cell_type": "code",
   "execution_count": 8,
   "metadata": {
    "collapsed": false
   },
   "outputs": [],
   "source": [
    "\r\n",
    "'''aprioriGen（输入频繁项集列表 Lk 与返回的元素个数 k，然后输出候选项集 Ck。\r\n",
    "       例如: 以 {0},{1},{2} 为输入且 k = 2 则输出 {0,1}, {0,2}, {1,2}. \r\n",
    "       以 {0,1},{0,2},{1,2} 为输入且 k = 3 则输出{0,1,2}\r\n",
    "       仅需要计算一次，不需要将所有的结果计算出来，然后进行去重操作,这是一个更高效的算法）\r\n",
    "\r\n",
    "    Args:\r\n",
    "        Lk 频繁项集列表\r\n",
    "        k 返回的项集元素个数（若元素的前 k-2 相同，就进行合并）\r\n",
    "    Returns:\r\n",
    "        retList 元素两两合并的数据集\r\n",
    "'''\r\n",
    "def aprioriGen(Lk, k): \r\n",
    "\r\n",
    "    retList = [ ]\r\n",
    "    lenLk = len(Lk)\r\n",
    "    for i in range(lenLk):\r\n",
    "        for j in range(i+1, lenLk):\r\n",
    "            #print(i,j)\r\n",
    "            L1 = list(Lk[i])[:k]\r\n",
    "            L1.sort( )\r\n",
    "            #print(list(L1))\r\n",
    "            L2 = list(Lk[j])[:k]\r\n",
    "            L2.sort( )\r\n",
    "            #print(list(L2 ))\r\n",
    "            if L1==L2: \r\n",
    "                #这里使用集合的并操作来完成，在Python中对应操作符 |\r\n",
    "                retList.append(Lk[i] | Lk[j]) \r\n",
    "            print(retList)\r\n",
    "    return retList\r\n",
    "\r\n",
    "\r\n",
    "\r\n",
    "\"\"\"apriori（首先构建集合 C1，然后扫描数据集来判断这些只有一个元素的项集是否满足最小支持度的要求。\r\n",
    "那么满足最小支持度要求的项集构成集合 L1。\r\n",
    "然后 L1 中的元素相互组合成 C2，C2 再进一步过滤变成 L2，然后以此类推，知道 Cn 的长度为 0 时结束，即可找出所有频繁项集的支持度。）\r\n",
    "\r\n",
    "    Args:\r\n",
    "        dataSet 原始数据集\r\n",
    "        minSupport 支持度的阈值\r\n",
    "    Returns:\r\n",
    "        L 频繁项集的全集\r\n",
    "        supportData 所有元素和支持度的全集\r\n",
    "\"\"\"\r\n",
    "def apriori(D, minSupport = 0.5):\r\n",
    "    # C1 即对 dataSet 进行去重，排序，放入 list 中，然后转换所有的元素为 frozenset\r\n",
    "    C1 = createC1(D)\r\n",
    "    # 计算候选数据集 C1 在数据集 D 中的支持度，并返回支持度大于 minSupport 的数据\r\n",
    "    L1, supportData = scanD(D, C1, minSupport)\r\n",
    "    # L 加了一层 list, L 一共 2 层 list\r\n",
    "    L = [L1]\r\n",
    "    k = 0\r\n",
    "     # 判断 L 的第 k-2 项的数据长度是否 > 0。\r\n",
    "     #第一次执行时 L 为 [[frozenset([1]), frozenset([3]), frozenset([2]), frozenset([5])]]。\r\n",
    "     #L[k]=L[0]=[frozenset([1]), frozenset([3]), frozenset([2]), frozenset([5])]\r\n",
    "     #最后面k += 1\r\n",
    "     #第二次执行L为 [frozenset({1}), frozenset({3}), frozenset({2}), frozenset({5})],\r\n",
    "     #[frozenset({1, 3}), frozenset({2, 3}), frozenset({3, 5}), frozenset({2, 5})]\r\n",
    "     #L[k]=L[1]=[[frozenset({1, 3}), frozenset({2, 3}), frozenset({3, 5}), frozenset({2, 5})]]\r\n",
    "     #最后面 k += 1\r\n",
    "    while (len(L[k]) > 1):\r\n",
    "        Ck = aprioriGen(L[k], k)# 例如: 以 {0},{1},{2} 为输入且 k = 2 则输出 {0,1}, {0,2}, {1,2}. 以 {0,1},{0,2},{1,2} 为输入且 k = 3 则输出 {0,1,2}\r\n",
    "        #print ('Ck', Ck)\r\n",
    "        print(\"***\",retList)\r\n",
    "        # 计算候选数据集 CK 在数据集 D 中的支持度，并返回支持度大于 minSupport 的数据\r\n",
    "        Lk, supK = scanD(D, Ck, minSupport) \r\n",
    "        # 保存所有候选项集的支持度，如果字典没有，就追加元素，如果有，就更新元素\r\n",
    "        supportData.update(supK)\r\n",
    "        # Lk 表示满足频繁子项的集合，L 元素在增加，例如: \r\n",
    "        # l=[[set(1), set(2), set(3)]]\r\n",
    "        # l=[[set(1), set(2), set(3)], [set(1, 2), set(2, 3)]]\r\n",
    "        L.append(Lk)\r\n",
    "        print(L)\r\n",
    "        k += 1\r\n",
    "    return L, supportData"
   ]
  },
  {
   "cell_type": "code",
   "execution_count": null,
   "metadata": {
    "collapsed": false
   },
   "outputs": [],
   "source": []
  },
  {
   "cell_type": "code",
   "execution_count": 9,
   "metadata": {
    "collapsed": false
   },
   "outputs": [
    {
     "name": "stdout",
     "output_type": "stream",
     "text": [
      "[frozenset({1, 3})]\n",
      "[frozenset({1, 3}), frozenset({1, 2})]\n",
      "[frozenset({1, 3}), frozenset({1, 2}), frozenset({1, 5})]\n",
      "[frozenset({1, 3}), frozenset({1, 2}), frozenset({1, 5}), frozenset({2, 3})]\n",
      "[frozenset({1, 3}), frozenset({1, 2}), frozenset({1, 5}), frozenset({2, 3}), frozenset({3, 5})]\n",
      "[frozenset({1, 3}), frozenset({1, 2}), frozenset({1, 5}), frozenset({2, 3}), frozenset({3, 5}), frozenset({2, 5})]\n",
      "*** [frozenset({1}), frozenset({3}), frozenset({2}), frozenset({5})]\n",
      "[[frozenset({1}), frozenset({3}), frozenset({2}), frozenset({5})], [frozenset({1, 3}), frozenset({2, 3}), frozenset({3, 5}), frozenset({2, 5})]]\n",
      "[]\n",
      "[]\n",
      "[]\n",
      "[]\n",
      "[frozenset({2, 3, 5})]\n",
      "[frozenset({2, 3, 5})]\n",
      "*** [frozenset({1}), frozenset({3}), frozenset({2}), frozenset({5})]\n",
      "[[frozenset({1}), frozenset({3}), frozenset({2}), frozenset({5})], [frozenset({1, 3}), frozenset({2, 3}), frozenset({3, 5}), frozenset({2, 5})], [frozenset({2, 3, 5})]]\n"
     ]
    },
    {
     "data": {
      "text/plain": [
       "[[frozenset({1}), frozenset({3}), frozenset({2}), frozenset({5})],\n",
       " [frozenset({1, 3}), frozenset({2, 3}), frozenset({3, 5}), frozenset({2, 5})],\n",
       " [frozenset({2, 3, 5})]]"
      ]
     },
     "execution_count": 9,
     "metadata": {},
     "output_type": "execute_result"
    }
   ],
   "source": [
    "l,support=apriori(dataset, minSupport = 0.5)\r\n",
    "l"
   ]
  },
  {
   "cell_type": "code",
   "execution_count": 37,
   "metadata": {
    "collapsed": false
   },
   "outputs": [
    {
     "name": "stdout",
     "output_type": "stream",
     "text": [
      "555 555\n"
     ]
    }
   ],
   "source": [
    "print(\"555\",555)"
   ]
  },
  {
   "cell_type": "code",
   "execution_count": null,
   "metadata": {
    "collapsed": false
   },
   "outputs": [],
   "source": []
  },
  {
   "cell_type": "code",
   "execution_count": null,
   "metadata": {
    "collapsed": false
   },
   "outputs": [],
   "source": []
  },
  {
   "cell_type": "code",
   "execution_count": null,
   "metadata": {
    "collapsed": false
   },
   "outputs": [],
   "source": []
  },
  {
   "cell_type": "code",
   "execution_count": 132,
   "metadata": {
    "collapsed": false
   },
   "outputs": [],
   "source": [
    "\n",
    "\n",
    "def generateRules(L, supportData, minConf=0.7):  #supportData is a dict coming from scanD\n",
    "    bigRuleList = []\n",
    "    for i in range(1, len(L)):#only get the sets with two or more items\n",
    "        for freqSet in L[i]:\n",
    "            H1 = [frozenset([item]) for item in freqSet]\n",
    "            if (i > 1):\n",
    "                rulesFromConseq(freqSet, H1, supportData, bigRuleList, minConf)\n",
    "            else:\n",
    "                calcConf(freqSet, H1, supportData, bigRuleList, minConf)\n",
    "    return bigRuleList         \n",
    "\n",
    "def calcConf(freqSet, H, supportData, brl, minConf=0.7):\n",
    "    prunedH = [] #create new list to return\n",
    "    for conseq in H:\n",
    "        conf = supportData[freqSet]/supportData[freqSet-conseq] #calc confidence\n",
    "        if conf >= minConf: \n",
    "            print( freqSet-conseq,'-->',conseq,'conf:',conf)\n",
    "            brl.append((freqSet-conseq, conseq, conf))\n",
    "            prunedH.append(conseq)\n",
    "    return prunedH\n",
    "\n",
    "def rulesFromConseq(freqSet, H, supportData, brl, minConf=0.7):\n",
    "    m = len(H[0])\n",
    "    if (len(freqSet) > (m + 1)): #try further merging\n",
    "        Hmp1 = aprioriGen(H, m+1)#create Hm+1 new candidates\n",
    "        Hmp1 = calcConf(freqSet, Hmp1, supportData, brl, minConf)\n",
    "        if (len(Hmp1) > 1):    #need at least two sets to merge\n",
    "            rulesFromConseq(freqSet, Hmp1, supportData, brl, minConf)\n",
    " "
   ]
  },
  {
   "cell_type": "code",
   "execution_count": 131,
   "metadata": {
    "collapsed": false
   },
   "outputs": [
    {
     "name": "stdout",
     "output_type": "stream",
     "text": [
      "Looking in indexes: https://pypi.mirrors.ustc.edu.cn/simple/\n",
      "Collecting votesmart\n"
     ]
    }
   ],
   "source": [
    "! pip install votesmart\r\n"
   ]
  },
  {
   "cell_type": "code",
   "execution_count": null,
   "metadata": {
    "collapsed": false
   },
   "outputs": [],
   "source": []
  }
 ],
 "metadata": {
  "kernelspec": {
   "display_name": "PaddlePaddle 1.8.0 (Python 3.5)",
   "language": "python",
   "name": "py35-paddle1.2.0"
  },
  "language_info": {
   "codemirror_mode": {
    "name": "ipython",
    "version": 3
   },
   "file_extension": ".py",
   "mimetype": "text/x-python",
   "name": "python",
   "nbconvert_exporter": "python",
   "pygments_lexer": "ipython3",
   "version": "3.7.4"
  }
 },
 "nbformat": 4,
 "nbformat_minor": 1
}
