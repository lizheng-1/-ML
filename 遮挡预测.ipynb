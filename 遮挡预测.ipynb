{
 "cells": [
  {
   "cell_type": "markdown",
   "metadata": {},
   "source": [
    "# 代码详解"
   ]
  },
  {
   "cell_type": "code",
   "execution_count": 5,
   "metadata": {},
   "outputs": [],
   "source": [
    "from sklearn.model_selection import train_test_split\n",
    "from sklearn.externals import joblib\n",
    "from sklearn.ensemble import RandomForestClassifier\n",
    "import numpy as np\n",
    "import pandas as pd"
   ]
  },
  {
   "cell_type": "code",
   "execution_count": 7,
   "metadata": {},
   "outputs": [
    {
     "data": {
      "text/plain": [
       "array([[ 0.706     ,  0.        ,  6.67289579,  1.        ],\n",
       "       [ 0.457     ,  0.70208333, 16.046116  ,  1.        ],\n",
       "       [ 0.375     ,  0.81796117, 23.74479969,  1.        ],\n",
       "       [ 0.355     ,  0.94093643, 29.10128228,  1.        ],\n",
       "       [ 0.357     ,  1.        , 31.45182751,  1.        ]])"
      ]
     },
     "execution_count": 7,
     "metadata": {},
     "output_type": "execute_result"
    }
   ],
   "source": [
    "#da=np.loadtxt(\"data1.txt\")\n",
    "#2345行是数字 都转化为float型分别是离散率 电站瞬时发电水平 太阳高度角\n",
    "data = np.loadtxt(\"data1.txt\", delimiter=\"\\t\", dtype=float,usecols=(1,2,3,4))\n",
    "data[:5]"
   ]
  },
  {
   "cell_type": "code",
   "execution_count": 8,
   "metadata": {
    "scrolled": true
   },
   "outputs": [
    {
     "data": {
      "text/plain": [
       "(80, 4)"
      ]
     },
     "execution_count": 8,
     "metadata": {},
     "output_type": "execute_result"
    }
   ],
   "source": [
    "data.shape"
   ]
  },
  {
   "cell_type": "code",
   "execution_count": 3,
   "metadata": {},
   "outputs": [
    {
     "data": {
      "text/plain": [
       "(80,)"
      ]
     },
     "execution_count": 3,
     "metadata": {},
     "output_type": "execute_result"
    }
   ],
   "source": [
    "#第一行是地点 \n",
    "data_index = np.loadtxt(\"data1.txt\", dtype=str, delimiter=\",\", usecols=0)\n",
    "data_index.shape"
   ]
  },
  {
   "cell_type": "code",
   "execution_count": 4,
   "metadata": {},
   "outputs": [
    {
     "data": {
      "text/html": [
       "<div>\n",
       "<style scoped>\n",
       "    .dataframe tbody tr th:only-of-type {\n",
       "        vertical-align: middle;\n",
       "    }\n",
       "\n",
       "    .dataframe tbody tr th {\n",
       "        vertical-align: top;\n",
       "    }\n",
       "\n",
       "    .dataframe thead th {\n",
       "        text-align: right;\n",
       "    }\n",
       "</style>\n",
       "<table border=\"1\" class=\"dataframe\">\n",
       "  <thead>\n",
       "    <tr style=\"text-align: right;\">\n",
       "      <th></th>\n",
       "      <th>dispersion ratio</th>\n",
       "      <th>generate level</th>\n",
       "      <th>solar elevation</th>\n",
       "      <th>label</th>\n",
       "    </tr>\n",
       "  </thead>\n",
       "  <tbody>\n",
       "    <tr>\n",
       "      <th>14姜集8\\t0.706\\t0\\t6.672895788\\t1</th>\n",
       "      <td>0.706</td>\n",
       "      <td>0.000000</td>\n",
       "      <td>6.672896</td>\n",
       "      <td>1.0</td>\n",
       "    </tr>\n",
       "    <tr>\n",
       "      <th>14姜集9\\t0.457\\t0.702083333\\t16.046116\\t1</th>\n",
       "      <td>0.457</td>\n",
       "      <td>0.702083</td>\n",
       "      <td>16.046116</td>\n",
       "      <td>1.0</td>\n",
       "    </tr>\n",
       "    <tr>\n",
       "      <th>14姜集10\\t0.375\\t0.817961165\\t23.74479969\\t1</th>\n",
       "      <td>0.375</td>\n",
       "      <td>0.817961</td>\n",
       "      <td>23.744800</td>\n",
       "      <td>1.0</td>\n",
       "    </tr>\n",
       "    <tr>\n",
       "      <th>14姜集11\\t0.355\\t0.940936426\\t29.10128228\\t1</th>\n",
       "      <td>0.355</td>\n",
       "      <td>0.940936</td>\n",
       "      <td>29.101282</td>\n",
       "      <td>1.0</td>\n",
       "    </tr>\n",
       "    <tr>\n",
       "      <th>14姜集12\\t0.357\\t1\\t31.45182751\\t1</th>\n",
       "      <td>0.357</td>\n",
       "      <td>1.000000</td>\n",
       "      <td>31.451828</td>\n",
       "      <td>1.0</td>\n",
       "    </tr>\n",
       "    <tr>\n",
       "      <th>...</th>\n",
       "      <td>...</td>\n",
       "      <td>...</td>\n",
       "      <td>...</td>\n",
       "      <td>...</td>\n",
       "    </tr>\n",
       "    <tr>\n",
       "      <th>45太平傅家11\\t0.015\\t0.913735899\\t29.10128228\\t0</th>\n",
       "      <td>0.015</td>\n",
       "      <td>0.913736</td>\n",
       "      <td>29.101282</td>\n",
       "      <td>0.0</td>\n",
       "    </tr>\n",
       "    <tr>\n",
       "      <th>45太平傅家12\\t0.014\\t0.91507177\\t31.45182751\\t0</th>\n",
       "      <td>0.014</td>\n",
       "      <td>0.915072</td>\n",
       "      <td>31.451828</td>\n",
       "      <td>0.0</td>\n",
       "    </tr>\n",
       "    <tr>\n",
       "      <th>45太平傅家13\\t0.025\\t0.91507177\\t30.43290781\\t0</th>\n",
       "      <td>0.025</td>\n",
       "      <td>0.915072</td>\n",
       "      <td>30.432908</td>\n",
       "      <td>0.0</td>\n",
       "    </tr>\n",
       "    <tr>\n",
       "      <th>45太平傅家14\\t0.1\\t0.889634351\\t26.20837733\\t0</th>\n",
       "      <td>0.100</td>\n",
       "      <td>0.889634</td>\n",
       "      <td>26.208377</td>\n",
       "      <td>0.0</td>\n",
       "    </tr>\n",
       "    <tr>\n",
       "      <th>45太平傅家15\\t0.429\\t0.918091809\\t19.36152754\\t1</th>\n",
       "      <td>0.429</td>\n",
       "      <td>0.918092</td>\n",
       "      <td>19.361528</td>\n",
       "      <td>1.0</td>\n",
       "    </tr>\n",
       "  </tbody>\n",
       "</table>\n",
       "<p>80 rows × 4 columns</p>\n",
       "</div>"
      ],
      "text/plain": [
       "                                              dispersion ratio  \\\n",
       "14姜集8\\t0.706\\t0\\t6.672895788\\t1                          0.706   \n",
       "14姜集9\\t0.457\\t0.702083333\\t16.046116\\t1                  0.457   \n",
       "14姜集10\\t0.375\\t0.817961165\\t23.74479969\\t1               0.375   \n",
       "14姜集11\\t0.355\\t0.940936426\\t29.10128228\\t1               0.355   \n",
       "14姜集12\\t0.357\\t1\\t31.45182751\\t1                         0.357   \n",
       "...                                                        ...   \n",
       "45太平傅家11\\t0.015\\t0.913735899\\t29.10128228\\t0             0.015   \n",
       "45太平傅家12\\t0.014\\t0.91507177\\t31.45182751\\t0              0.014   \n",
       "45太平傅家13\\t0.025\\t0.91507177\\t30.43290781\\t0              0.025   \n",
       "45太平傅家14\\t0.1\\t0.889634351\\t26.20837733\\t0               0.100   \n",
       "45太平傅家15\\t0.429\\t0.918091809\\t19.36152754\\t1             0.429   \n",
       "\n",
       "                                              generate level  solar elevation  \\\n",
       "14姜集8\\t0.706\\t0\\t6.672895788\\t1                     0.000000         6.672896   \n",
       "14姜集9\\t0.457\\t0.702083333\\t16.046116\\t1             0.702083        16.046116   \n",
       "14姜集10\\t0.375\\t0.817961165\\t23.74479969\\t1          0.817961        23.744800   \n",
       "14姜集11\\t0.355\\t0.940936426\\t29.10128228\\t1          0.940936        29.101282   \n",
       "14姜集12\\t0.357\\t1\\t31.45182751\\t1                    1.000000        31.451828   \n",
       "...                                                      ...              ...   \n",
       "45太平傅家11\\t0.015\\t0.913735899\\t29.10128228\\t0        0.913736        29.101282   \n",
       "45太平傅家12\\t0.014\\t0.91507177\\t31.45182751\\t0         0.915072        31.451828   \n",
       "45太平傅家13\\t0.025\\t0.91507177\\t30.43290781\\t0         0.915072        30.432908   \n",
       "45太平傅家14\\t0.1\\t0.889634351\\t26.20837733\\t0          0.889634        26.208377   \n",
       "45太平傅家15\\t0.429\\t0.918091809\\t19.36152754\\t1        0.918092        19.361528   \n",
       "\n",
       "                                              label  \n",
       "14姜集8\\t0.706\\t0\\t6.672895788\\t1                 1.0  \n",
       "14姜集9\\t0.457\\t0.702083333\\t16.046116\\t1         1.0  \n",
       "14姜集10\\t0.375\\t0.817961165\\t23.74479969\\t1      1.0  \n",
       "14姜集11\\t0.355\\t0.940936426\\t29.10128228\\t1      1.0  \n",
       "14姜集12\\t0.357\\t1\\t31.45182751\\t1                1.0  \n",
       "...                                             ...  \n",
       "45太平傅家11\\t0.015\\t0.913735899\\t29.10128228\\t0    0.0  \n",
       "45太平傅家12\\t0.014\\t0.91507177\\t31.45182751\\t0     0.0  \n",
       "45太平傅家13\\t0.025\\t0.91507177\\t30.43290781\\t0     0.0  \n",
       "45太平傅家14\\t0.1\\t0.889634351\\t26.20837733\\t0      0.0  \n",
       "45太平傅家15\\t0.429\\t0.918091809\\t19.36152754\\t1    1.0  \n",
       "\n",
       "[80 rows x 4 columns]"
      ]
     },
     "execution_count": 4,
     "metadata": {},
     "output_type": "execute_result"
    }
   ],
   "source": [
    "# DataFrame是一种表格型数据结构,columns是列名，index是行名\n",
    "dataframe = pd.DataFrame(data=data,columns=('dispersion ratio', 'generate level', 'solar elevation', 'label'),index=data_index)\n",
    "dataframe"
   ]
  },
  {
   "cell_type": "code",
   "execution_count": 5,
   "metadata": {},
   "outputs": [
    {
     "data": {
      "text/html": [
       "<div>\n",
       "<style scoped>\n",
       "    .dataframe tbody tr th:only-of-type {\n",
       "        vertical-align: middle;\n",
       "    }\n",
       "\n",
       "    .dataframe tbody tr th {\n",
       "        vertical-align: top;\n",
       "    }\n",
       "\n",
       "    .dataframe thead th {\n",
       "        text-align: right;\n",
       "    }\n",
       "</style>\n",
       "<table border=\"1\" class=\"dataframe\">\n",
       "  <thead>\n",
       "    <tr style=\"text-align: right;\">\n",
       "      <th></th>\n",
       "      <th>dispersion ratio</th>\n",
       "      <th>generate level</th>\n",
       "      <th>solar elevation</th>\n",
       "      <th>label</th>\n",
       "    </tr>\n",
       "  </thead>\n",
       "  <tbody>\n",
       "    <tr>\n",
       "      <th>count</th>\n",
       "      <td>80.000000</td>\n",
       "      <td>80.000000</td>\n",
       "      <td>80.000000</td>\n",
       "      <td>80.000000</td>\n",
       "    </tr>\n",
       "    <tr>\n",
       "      <th>mean</th>\n",
       "      <td>0.179563</td>\n",
       "      <td>0.835019</td>\n",
       "      <td>22.877467</td>\n",
       "      <td>0.575000</td>\n",
       "    </tr>\n",
       "    <tr>\n",
       "      <th>std</th>\n",
       "      <td>0.162726</td>\n",
       "      <td>0.190514</td>\n",
       "      <td>7.977855</td>\n",
       "      <td>0.497462</td>\n",
       "    </tr>\n",
       "    <tr>\n",
       "      <th>min</th>\n",
       "      <td>0.009000</td>\n",
       "      <td>0.000000</td>\n",
       "      <td>6.672896</td>\n",
       "      <td>0.000000</td>\n",
       "    </tr>\n",
       "    <tr>\n",
       "      <th>25%</th>\n",
       "      <td>0.041000</td>\n",
       "      <td>0.794483</td>\n",
       "      <td>18.532675</td>\n",
       "      <td>0.000000</td>\n",
       "    </tr>\n",
       "    <tr>\n",
       "      <th>50%</th>\n",
       "      <td>0.123500</td>\n",
       "      <td>0.902214</td>\n",
       "      <td>24.976589</td>\n",
       "      <td>1.000000</td>\n",
       "    </tr>\n",
       "    <tr>\n",
       "      <th>75%</th>\n",
       "      <td>0.283000</td>\n",
       "      <td>0.952553</td>\n",
       "      <td>29.434189</td>\n",
       "      <td>1.000000</td>\n",
       "    </tr>\n",
       "    <tr>\n",
       "      <th>max</th>\n",
       "      <td>0.722000</td>\n",
       "      <td>1.000000</td>\n",
       "      <td>31.451828</td>\n",
       "      <td>1.000000</td>\n",
       "    </tr>\n",
       "  </tbody>\n",
       "</table>\n",
       "</div>"
      ],
      "text/plain": [
       "       dispersion ratio  generate level  solar elevation      label\n",
       "count         80.000000       80.000000        80.000000  80.000000\n",
       "mean           0.179563        0.835019        22.877467   0.575000\n",
       "std            0.162726        0.190514         7.977855   0.497462\n",
       "min            0.009000        0.000000         6.672896   0.000000\n",
       "25%            0.041000        0.794483        18.532675   0.000000\n",
       "50%            0.123500        0.902214        24.976589   1.000000\n",
       "75%            0.283000        0.952553        29.434189   1.000000\n",
       "max            0.722000        1.000000        31.451828   1.000000"
      ]
     },
     "execution_count": 5,
     "metadata": {},
     "output_type": "execute_result"
    }
   ],
   "source": [
    "dataframe.describe( )\n",
    "##统计缺失值总数: dataframe.isnull().sum()"
   ]
  },
  {
   "cell_type": "code",
   "execution_count": 6,
   "metadata": {},
   "outputs": [
    {
     "name": "stdout",
     "output_type": "stream",
     "text": [
      "<class 'pandas.core.frame.DataFrame'>\n",
      "Index: 80 entries, 14姜集8\t0.706\t0\t6.672895788\t1 to 45太平傅家15\t0.429\t0.918091809\t19.36152754\t1\n",
      "Data columns (total 4 columns):\n",
      " #   Column            Non-Null Count  Dtype  \n",
      "---  ------            --------------  -----  \n",
      " 0   dispersion ratio  80 non-null     float64\n",
      " 1   generate level    80 non-null     float64\n",
      " 2   solar elevation   80 non-null     float64\n",
      " 3   label             80 non-null     float64\n",
      "dtypes: float64(4)\n",
      "memory usage: 3.1+ KB\n"
     ]
    }
   ],
   "source": [
    "dataframe.info()"
   ]
  },
  {
   "cell_type": "code",
   "execution_count": 7,
   "metadata": {},
   "outputs": [
    {
     "data": {
      "text/plain": [
       "((80, 3), (80, 1))"
      ]
     },
     "execution_count": 7,
     "metadata": {},
     "output_type": "execute_result"
    }
   ],
   "source": [
    "#x是数据，y是标签\n",
    "x, y = np.split(dataframe, (3,), axis=1)\n",
    "x.shape,y.shape"
   ]
  },
  {
   "cell_type": "code",
   "execution_count": null,
   "metadata": {},
   "outputs": [],
   "source": []
  },
  {
   "cell_type": "code",
   "execution_count": 8,
   "metadata": {},
   "outputs": [],
   "source": [
    "# 2、拆分训练数据与测试数据，为了进行交叉验证\n",
    "#x_train, x_test, y_train, y_test = train_test_split(x, y, test_size=0.3,random_state=4)\n",
    "x_train, x_test, y_train, y_test = train_test_split(x, y, test_size=0.3,random_state=25)\n",
    "\n",
    "#x_train, x_test, y_train, y_test = train_test_split(x, y, test_size=0.3)\n",
    "\n",
    "a, b, c = np.split(x_test, 3, axis=1)"
   ]
  },
  {
   "cell_type": "code",
   "execution_count": 9,
   "metadata": {},
   "outputs": [
    {
     "data": {
      "text/plain": [
       "((56, 3), (24, 1))"
      ]
     },
     "execution_count": 9,
     "metadata": {},
     "output_type": "execute_result"
    }
   ],
   "source": [
    "x_train.shape,a.shape"
   ]
  },
  {
   "cell_type": "code",
   "execution_count": 10,
   "metadata": {},
   "outputs": [
    {
     "name": "stderr",
     "output_type": "stream",
     "text": [
      "E:\\AS\\anaconda\\lib\\site-packages\\ipykernel_launcher.py:4: DataConversionWarning: A column-vector y was passed when a 1d array was expected. Please change the shape of y to (n_samples,), for example using ravel().\n",
      "  after removing the cwd from sys.path.\n",
      "[Parallel(n_jobs=2)]: Using backend ThreadingBackend with 2 concurrent workers.\n",
      "[Parallel(n_jobs=2)]: Done  46 tasks      | elapsed:    0.0s\n",
      "[Parallel(n_jobs=2)]: Done 100 out of 100 | elapsed:    0.0s finished\n"
     ]
    },
    {
     "name": "stdout",
     "output_type": "stream",
     "text": [
      "训练完成\n"
     ]
    }
   ],
   "source": [
    "# 参数分别代表n_estimators：决策树的个数，n_jobs：并行的个数，oob_score：带外数据验证 verbose： 是否显示任务进程\n",
    "rfclf = RandomForestClassifier(n_estimators=100, n_jobs=2, oob_score=True, verbose=1)\n",
    "#print(clf)\n",
    "rfclf.fit(x_train,y_train)\n",
    "joblib.dump(rfclf, \"randomf_model.m\")  # 保存模型\n",
    "print(\"训练完成\")"
   ]
  },
  {
   "cell_type": "code",
   "execution_count": 11,
   "metadata": {},
   "outputs": [
    {
     "name": "stdout",
     "output_type": "stream",
     "text": [
      "1.0\n"
     ]
    },
    {
     "name": "stderr",
     "output_type": "stream",
     "text": [
      "[Parallel(n_jobs=2)]: Using backend ThreadingBackend with 2 concurrent workers.\n",
      "[Parallel(n_jobs=2)]: Done  46 tasks      | elapsed:    0.0s\n",
      "[Parallel(n_jobs=2)]: Done 100 out of 100 | elapsed:    0.0s finished\n"
     ]
    }
   ],
   "source": [
    "# 用训练集验证\n",
    "answer = rfclf.predict(x_train)\n",
    "#y_train = y_train.reshape(-1)\n",
    "y_train1 = y_train['label']\n",
    "print(np.mean(answer == y_train1))"
   ]
  },
  {
   "cell_type": "code",
   "execution_count": 13,
   "metadata": {},
   "outputs": [
    {
     "name": "stdout",
     "output_type": "stream",
     "text": [
      "0.9166666666666666\n"
     ]
    },
    {
     "name": "stderr",
     "output_type": "stream",
     "text": [
      "[Parallel(n_jobs=2)]: Using backend ThreadingBackend with 2 concurrent workers.\n",
      "[Parallel(n_jobs=2)]: Done  46 tasks      | elapsed:    0.0s\n",
      "[Parallel(n_jobs=2)]: Done 100 out of 100 | elapsed:    0.0s finished\n"
     ]
    }
   ],
   "source": [
    "# 用测试集验证\n",
    "answer1 = rfclf.predict(x_test)\n",
    "y_test1 = y_test['label']\n",
    "print(np.mean(answer1 == y_test1))\n",
    "# score=dtclf.score(x_test,y_test)\n",
    "# score"
   ]
  },
  {
   "cell_type": "code",
   "execution_count": 12,
   "metadata": {},
   "outputs": [
    {
     "data": {
      "text/plain": [
       "[Text(418.5, 733.86, 'X[0] <= 0.102\\ngini = 0.484\\nsamples = 56\\nvalue = [23, 33]'),\n",
       " Text(167.4, 570.78, 'X[1] <= 0.988\\ngini = 0.1\\nsamples = 19\\nvalue = [18, 1]'),\n",
       " Text(83.7, 407.70000000000005, 'gini = 0.0\\nsamples = 16\\nvalue = [16, 0]'),\n",
       " Text(251.10000000000002, 407.70000000000005, 'X[2] <= 29.767\\ngini = 0.444\\nsamples = 3\\nvalue = [2, 1]'),\n",
       " Text(167.4, 244.62, 'gini = 0.0\\nsamples = 2\\nvalue = [2, 0]'),\n",
       " Text(334.8, 244.62, 'gini = 0.0\\nsamples = 1\\nvalue = [0, 1]'),\n",
       " Text(669.6, 570.78, 'X[0] <= 0.146\\ngini = 0.234\\nsamples = 37\\nvalue = [5, 32]'),\n",
       " Text(585.9, 407.70000000000005, 'X[1] <= 0.768\\ngini = 0.496\\nsamples = 11\\nvalue = [5, 6]'),\n",
       " Text(502.20000000000005, 244.62, 'gini = 0.0\\nsamples = 4\\nvalue = [0, 4]'),\n",
       " Text(669.6, 244.62, 'X[2] <= 24.231\\ngini = 0.408\\nsamples = 7\\nvalue = [5, 2]'),\n",
       " Text(585.9, 81.54000000000008, 'gini = 0.0\\nsamples = 5\\nvalue = [5, 0]'),\n",
       " Text(753.3000000000001, 81.54000000000008, 'gini = 0.0\\nsamples = 2\\nvalue = [0, 2]'),\n",
       " Text(753.3000000000001, 407.70000000000005, 'gini = 0.0\\nsamples = 26\\nvalue = [0, 26]')]"
      ]
     },
     "execution_count": 12,
     "metadata": {},
     "output_type": "execute_result"
    },
    {
     "data": {
      "image/png": "[encoded data removed]",
      "text/plain": [
       "<Figure size 1080x1080 with 1 Axes>"
      ]
     },
     "metadata": {
      "needs_background": "light"
     },
     "output_type": "display_data"
    }
   ],
   "source": [
    "from sklearn import tree\n",
    "from sklearn.tree import DecisionTreeClassifier\n",
    "import matplotlib.pyplot as plt\n",
    "dtclf=DecisionTreeClassifier()\n",
    "dtclf.fit(x_train,y_train)\n",
    "#保存模型\n",
    "joblib.dump(dtclf, \"tree_model.m\")\n",
    "plt.figure(figsize=[15,15])\n",
    "tree.plot_tree(dtclf)"
   ]
  },
  {
   "cell_type": "code",
   "execution_count": 14,
   "metadata": {},
   "outputs": [
    {
     "name": "stdout",
     "output_type": "stream",
     "text": [
      "1.0\n"
     ]
    }
   ],
   "source": [
    "# 用训练集验证\n",
    "answer = dtclf.predict(x_train)\n",
    "#y_train = y_train.reshape(-1)\n",
    "y_train1 = y_train['label']\n",
    "print(np.mean(answer == y_train1))"
   ]
  },
  {
   "cell_type": "code",
   "execution_count": 15,
   "metadata": {},
   "outputs": [
    {
     "name": "stdout",
     "output_type": "stream",
     "text": [
      "0.9583333333333334\n"
     ]
    }
   ],
   "source": [
    "# 用测试集验证\n",
    "answer1 = dtclf.predict(x_test)\n",
    "y_test1 = y_test['label']\n",
    "print(np.mean(answer1 == y_test1))\n",
    "# score=dtclf.score(x_test,y_test)\n",
    "# score"
   ]
  },
  {
   "cell_type": "code",
   "execution_count": 19,
   "metadata": {},
   "outputs": [],
   "source": [
    "# 1、读入数据，并将原始数据中的数据转换为数字形式\n",
    "test_data = np.loadtxt(\"alldata.txt\", delimiter=\"\\t\",dtype=float,usecols=(1,2,3))\n",
    "test_data_index = np.loadtxt(\"alldata.txt\",dtype=str,usecols=0)\n",
    "test_dataframe = pd.DataFrame(data=test_data,columns=('dispersion ratio', 'generate level', 'solar elevation'),index=test_data_index)\n"
   ]
  },
  {
   "cell_type": "code",
   "execution_count": 17,
   "metadata": {},
   "outputs": [],
   "source": [
    "# 2.读入训练好的随机森林\n",
    "clf = joblib.load(\"tree_model.m\")\n",
    "result = dtclf.predict(test_dataframe)\n",
    "# 3.进行预测\n",
    "test_dataframe['predict'] = result\n",
    "#4.结果写入文件\n",
    "test_dataframe.to_csv(\"tree_result(all data).csv\")"
   ]
  },
  {
   "cell_type": "code",
   "execution_count": 20,
   "metadata": {},
   "outputs": [],
   "source": [
    "# 2.读入训练好的随机森林\n",
    "clf = joblib.load(\"randomf_model.m\")\n",
    "result = dtclf.predict(test_dataframe)\n",
    "# 3.进行预测\n",
    "test_dataframe['predict'] = result\n",
    "#4.结果写入文件\n",
    "test_dataframe.to_csv(\"random_result(all data).csv\")"
   ]
  },
  {
   "cell_type": "code",
   "execution_count": null,
   "metadata": {},
   "outputs": [],
   "source": []
  },
  {
   "cell_type": "code",
   "execution_count": 21,
   "metadata": {
    "scrolled": false
   },
   "outputs": [
    {
     "data": {
      "text/html": [
       "<div>\n",
       "<style scoped>\n",
       "    .dataframe tbody tr th:only-of-type {\n",
       "        vertical-align: middle;\n",
       "    }\n",
       "\n",
       "    .dataframe tbody tr th {\n",
       "        vertical-align: top;\n",
       "    }\n",
       "\n",
       "    .dataframe thead th {\n",
       "        text-align: right;\n",
       "    }\n",
       "</style>\n",
       "<table border=\"1\" class=\"dataframe\">\n",
       "  <thead>\n",
       "    <tr style=\"text-align: right;\">\n",
       "      <th></th>\n",
       "      <th>Unnamed: 0</th>\n",
       "      <th>dispersion ratio</th>\n",
       "      <th>generate level</th>\n",
       "      <th>solar elevation</th>\n",
       "      <th>predict</th>\n",
       "    </tr>\n",
       "  </thead>\n",
       "  <tbody>\n",
       "    <tr>\n",
       "      <th>88</th>\n",
       "      <td>12牛王8</td>\n",
       "      <td>0.475</td>\n",
       "      <td>0.000000</td>\n",
       "      <td>6.672896</td>\n",
       "      <td>1.0</td>\n",
       "    </tr>\n",
       "    <tr>\n",
       "      <th>89</th>\n",
       "      <td>12牛王9</td>\n",
       "      <td>0.150</td>\n",
       "      <td>0.666667</td>\n",
       "      <td>16.046120</td>\n",
       "      <td>1.0</td>\n",
       "    </tr>\n",
       "    <tr>\n",
       "      <th>90</th>\n",
       "      <td>12牛王10</td>\n",
       "      <td>0.078</td>\n",
       "      <td>0.776699</td>\n",
       "      <td>23.744800</td>\n",
       "      <td>0.0</td>\n",
       "    </tr>\n",
       "    <tr>\n",
       "      <th>91</th>\n",
       "      <td>12牛王11</td>\n",
       "      <td>0.035</td>\n",
       "      <td>0.893471</td>\n",
       "      <td>29.101280</td>\n",
       "      <td>0.0</td>\n",
       "    </tr>\n",
       "    <tr>\n",
       "      <th>92</th>\n",
       "      <td>12牛王12</td>\n",
       "      <td>0.043</td>\n",
       "      <td>0.949555</td>\n",
       "      <td>31.451830</td>\n",
       "      <td>0.0</td>\n",
       "    </tr>\n",
       "    <tr>\n",
       "      <th>93</th>\n",
       "      <td>12牛王13</td>\n",
       "      <td>0.036</td>\n",
       "      <td>0.949555</td>\n",
       "      <td>30.432910</td>\n",
       "      <td>0.0</td>\n",
       "    </tr>\n",
       "    <tr>\n",
       "      <th>94</th>\n",
       "      <td>12牛王14</td>\n",
       "      <td>0.106</td>\n",
       "      <td>0.960265</td>\n",
       "      <td>26.208380</td>\n",
       "      <td>1.0</td>\n",
       "    </tr>\n",
       "    <tr>\n",
       "      <th>95</th>\n",
       "      <td>12牛王15</td>\n",
       "      <td>0.295</td>\n",
       "      <td>0.940171</td>\n",
       "      <td>19.361530</td>\n",
       "      <td>1.0</td>\n",
       "    </tr>\n",
       "    <tr>\n",
       "      <th>96</th>\n",
       "      <td>13王元气8</td>\n",
       "      <td>0.061</td>\n",
       "      <td>1.000000</td>\n",
       "      <td>6.672896</td>\n",
       "      <td>0.0</td>\n",
       "    </tr>\n",
       "    <tr>\n",
       "      <th>97</th>\n",
       "      <td>13王元气9</td>\n",
       "      <td>0.027</td>\n",
       "      <td>0.933333</td>\n",
       "      <td>16.046120</td>\n",
       "      <td>0.0</td>\n",
       "    </tr>\n",
       "    <tr>\n",
       "      <th>98</th>\n",
       "      <td>13王元气10</td>\n",
       "      <td>0.013</td>\n",
       "      <td>0.922330</td>\n",
       "      <td>23.744800</td>\n",
       "      <td>0.0</td>\n",
       "    </tr>\n",
       "  </tbody>\n",
       "</table>\n",
       "</div>"
      ],
      "text/plain": [
       "   Unnamed: 0  dispersion ratio  generate level  solar elevation  predict\n",
       "88      12牛王8             0.475        0.000000         6.672896      1.0\n",
       "89      12牛王9             0.150        0.666667        16.046120      1.0\n",
       "90     12牛王10             0.078        0.776699        23.744800      0.0\n",
       "91     12牛王11             0.035        0.893471        29.101280      0.0\n",
       "92     12牛王12             0.043        0.949555        31.451830      0.0\n",
       "93     12牛王13             0.036        0.949555        30.432910      0.0\n",
       "94     12牛王14             0.106        0.960265        26.208380      1.0\n",
       "95     12牛王15             0.295        0.940171        19.361530      1.0\n",
       "96     13王元气8             0.061        1.000000         6.672896      0.0\n",
       "97     13王元气9             0.027        0.933333        16.046120      0.0\n",
       "98    13王元气10             0.013        0.922330        23.744800      0.0"
      ]
     },
     "execution_count": 21,
     "metadata": {},
     "output_type": "execute_result"
    }
   ],
   "source": [
    "csv1=pd.read_csv(\"tree_result(all data).csv\")\n",
    "csv1[88:99]"
   ]
  },
  {
   "cell_type": "code",
   "execution_count": 22,
   "metadata": {},
   "outputs": [
    {
     "data": {
      "text/html": [
       "<div>\n",
       "<style scoped>\n",
       "    .dataframe tbody tr th:only-of-type {\n",
       "        vertical-align: middle;\n",
       "    }\n",
       "\n",
       "    .dataframe tbody tr th {\n",
       "        vertical-align: top;\n",
       "    }\n",
       "\n",
       "    .dataframe thead th {\n",
       "        text-align: right;\n",
       "    }\n",
       "</style>\n",
       "<table border=\"1\" class=\"dataframe\">\n",
       "  <thead>\n",
       "    <tr style=\"text-align: right;\">\n",
       "      <th></th>\n",
       "      <th>Unnamed: 0</th>\n",
       "      <th>dispersion ratio</th>\n",
       "      <th>generate level</th>\n",
       "      <th>solar elevation</th>\n",
       "      <th>predict</th>\n",
       "    </tr>\n",
       "  </thead>\n",
       "  <tbody>\n",
       "    <tr>\n",
       "      <th>88</th>\n",
       "      <td>12牛王8</td>\n",
       "      <td>0.475</td>\n",
       "      <td>0.000000</td>\n",
       "      <td>6.672896</td>\n",
       "      <td>1.0</td>\n",
       "    </tr>\n",
       "    <tr>\n",
       "      <th>89</th>\n",
       "      <td>12牛王9</td>\n",
       "      <td>0.150</td>\n",
       "      <td>0.666667</td>\n",
       "      <td>16.046120</td>\n",
       "      <td>1.0</td>\n",
       "    </tr>\n",
       "    <tr>\n",
       "      <th>90</th>\n",
       "      <td>12牛王10</td>\n",
       "      <td>0.078</td>\n",
       "      <td>0.776699</td>\n",
       "      <td>23.744800</td>\n",
       "      <td>0.0</td>\n",
       "    </tr>\n",
       "    <tr>\n",
       "      <th>91</th>\n",
       "      <td>12牛王11</td>\n",
       "      <td>0.035</td>\n",
       "      <td>0.893471</td>\n",
       "      <td>29.101280</td>\n",
       "      <td>0.0</td>\n",
       "    </tr>\n",
       "    <tr>\n",
       "      <th>92</th>\n",
       "      <td>12牛王12</td>\n",
       "      <td>0.043</td>\n",
       "      <td>0.949555</td>\n",
       "      <td>31.451830</td>\n",
       "      <td>0.0</td>\n",
       "    </tr>\n",
       "    <tr>\n",
       "      <th>93</th>\n",
       "      <td>12牛王13</td>\n",
       "      <td>0.036</td>\n",
       "      <td>0.949555</td>\n",
       "      <td>30.432910</td>\n",
       "      <td>0.0</td>\n",
       "    </tr>\n",
       "    <tr>\n",
       "      <th>94</th>\n",
       "      <td>12牛王14</td>\n",
       "      <td>0.106</td>\n",
       "      <td>0.960265</td>\n",
       "      <td>26.208380</td>\n",
       "      <td>1.0</td>\n",
       "    </tr>\n",
       "    <tr>\n",
       "      <th>95</th>\n",
       "      <td>12牛王15</td>\n",
       "      <td>0.295</td>\n",
       "      <td>0.940171</td>\n",
       "      <td>19.361530</td>\n",
       "      <td>1.0</td>\n",
       "    </tr>\n",
       "    <tr>\n",
       "      <th>96</th>\n",
       "      <td>13王元气8</td>\n",
       "      <td>0.061</td>\n",
       "      <td>1.000000</td>\n",
       "      <td>6.672896</td>\n",
       "      <td>0.0</td>\n",
       "    </tr>\n",
       "    <tr>\n",
       "      <th>97</th>\n",
       "      <td>13王元气9</td>\n",
       "      <td>0.027</td>\n",
       "      <td>0.933333</td>\n",
       "      <td>16.046120</td>\n",
       "      <td>0.0</td>\n",
       "    </tr>\n",
       "    <tr>\n",
       "      <th>98</th>\n",
       "      <td>13王元气10</td>\n",
       "      <td>0.013</td>\n",
       "      <td>0.922330</td>\n",
       "      <td>23.744800</td>\n",
       "      <td>0.0</td>\n",
       "    </tr>\n",
       "  </tbody>\n",
       "</table>\n",
       "</div>"
      ],
      "text/plain": [
       "   Unnamed: 0  dispersion ratio  generate level  solar elevation  predict\n",
       "88      12牛王8             0.475        0.000000         6.672896      1.0\n",
       "89      12牛王9             0.150        0.666667        16.046120      1.0\n",
       "90     12牛王10             0.078        0.776699        23.744800      0.0\n",
       "91     12牛王11             0.035        0.893471        29.101280      0.0\n",
       "92     12牛王12             0.043        0.949555        31.451830      0.0\n",
       "93     12牛王13             0.036        0.949555        30.432910      0.0\n",
       "94     12牛王14             0.106        0.960265        26.208380      1.0\n",
       "95     12牛王15             0.295        0.940171        19.361530      1.0\n",
       "96     13王元气8             0.061        1.000000         6.672896      0.0\n",
       "97     13王元气9             0.027        0.933333        16.046120      0.0\n",
       "98    13王元气10             0.013        0.922330        23.744800      0.0"
      ]
     },
     "execution_count": 22,
     "metadata": {},
     "output_type": "execute_result"
    }
   ],
   "source": [
    "csv2=pd.read_csv(\"random_result(all data).csv\")\n",
    "csv2[88:99]"
   ]
  },
  {
   "cell_type": "code",
   "execution_count": 23,
   "metadata": {},
   "outputs": [
    {
     "data": {
      "text/plain": [
       "(1772, 1828, 3600)"
      ]
     },
     "execution_count": 23,
     "metadata": {},
     "output_type": "execute_result"
    }
   ],
   "source": [
    "m=0\n",
    "n=0\n",
    "for i in csv1[\"predict\"]:\n",
    "    if i == 0:\n",
    "        m+=1\n",
    "    elif i == 1:\n",
    "        n+=1\n",
    "n,m,m+n"
   ]
  },
  {
   "cell_type": "code",
   "execution_count": 24,
   "metadata": {},
   "outputs": [
    {
     "data": {
      "text/plain": [
       "(1772, 1828)"
      ]
     },
     "execution_count": 24,
     "metadata": {},
     "output_type": "execute_result"
    }
   ],
   "source": [
    "p=0\n",
    "q=0\n",
    "for i in csv2[\"predict\"]:\n",
    "    if i == 0:\n",
    "        q+=1\n",
    "    elif i == 1:\n",
    "        p+=1\n",
    "p,q"
   ]
  },
  {
   "cell_type": "code",
   "execution_count": 25,
   "metadata": {},
   "outputs": [
    {
     "data": {
      "text/plain": [
       "(1772.0, 1772.0)"
      ]
     },
     "execution_count": 25,
     "metadata": {},
     "output_type": "execute_result"
    }
   ],
   "source": [
    "np.sum(csv2[\"predict\"]),np.sum(csv1[\"predict\"])"
   ]
  },
  {
   "cell_type": "code",
   "execution_count": 26,
   "metadata": {},
   "outputs": [
    {
     "name": "stderr",
     "output_type": "stream",
     "text": [
      "E:\\AS\\anaconda\\lib\\site-packages\\sklearn\\utils\\validation.py:760: DataConversionWarning: A column-vector y was passed when a 1d array was expected. Please change the shape of y to (n_samples, ), for example using ravel().\n",
      "  y = column_or_1d(y, warn=True)\n"
     ]
    },
    {
     "data": {
      "text/plain": [
       "0.5416666666666666"
      ]
     },
     "execution_count": 26,
     "metadata": {},
     "output_type": "execute_result"
    }
   ],
   "source": [
    "#用向量机做做，结果不行，可能数据归一化弄下会好点\n",
    "from sklearn import svm\n",
    "svmclf=svm.SVC(C=0.5,degree=8)\n",
    "svmclf.fit(x_train,y_train)\n",
    "# 用测试集验证\n",
    "svmclf.score(x_test,y_test)"
   ]
  },
  {
   "cell_type": "code",
   "execution_count": null,
   "metadata": {},
   "outputs": [],
   "source": []
  },
  {
   "cell_type": "code",
   "execution_count": 27,
   "metadata": {},
   "outputs": [
    {
     "name": "stderr",
     "output_type": "stream",
     "text": [
      "E:\\AS\\anaconda\\lib\\site-packages\\sklearn\\utils\\validation.py:760: DataConversionWarning: A column-vector y was passed when a 1d array was expected. Please change the shape of y to (n_samples, ), for example using ravel().\n",
      "  y = column_or_1d(y, warn=True)\n"
     ]
    },
    {
     "data": {
      "text/plain": [
       "0.5416666666666666"
      ]
     },
     "execution_count": 27,
     "metadata": {},
     "output_type": "execute_result"
    }
   ],
   "source": [
    "from sklearn import svm\n",
    "svmclf=svm.SVC(C=0.5,degree=5)\n",
    "svmclf.fit(x_train,y_train)\n",
    "# 用测试集验证\n",
    "svmclf.score(x_test,y_test)"
   ]
  },
  {
   "cell_type": "code",
   "execution_count": null,
   "metadata": {},
   "outputs": [],
   "source": []
  },
  {
   "cell_type": "markdown",
   "metadata": {
    "heading_collapsed": true
   },
   "source": [
    "# 代码复现"
   ]
  },
  {
   "cell_type": "code",
   "execution_count": 9,
   "metadata": {},
   "outputs": [
    {
     "name": "stdout",
     "output_type": "stream",
     "text": [
      "RandomForestClassifier(bootstrap=True, ccp_alpha=0.0, class_weight=None,\n",
      "                       criterion='gini', max_depth=None, max_features='auto',\n",
      "                       max_leaf_nodes=None, max_samples=None,\n",
      "                       min_impurity_decrease=0.0, min_impurity_split=None,\n",
      "                       min_samples_leaf=1, min_samples_split=2,\n",
      "                       min_weight_fraction_leaf=0.0, n_estimators=100, n_jobs=2,\n",
      "                       oob_score=True, random_state=None, verbose=1,\n",
      "                       warm_start=False)\n"
     ]
    },
    {
     "name": "stderr",
     "output_type": "stream",
     "text": [
      "E:\\AS\\anaconda\\lib\\site-packages\\ipykernel_launcher.py:26: DataConversionWarning: A column-vector y was passed when a 1d array was expected. Please change the shape of y to (n_samples,), for example using ravel().\n",
      "[Parallel(n_jobs=2)]: Using backend ThreadingBackend with 2 concurrent workers.\n",
      "[Parallel(n_jobs=2)]: Done  46 tasks      | elapsed:    0.0s\n",
      "[Parallel(n_jobs=2)]: Done 100 out of 100 | elapsed:    0.0s finished\n"
     ]
    },
    {
     "name": "stdout",
     "output_type": "stream",
     "text": [
      "训练完成\n",
      "1.0\n"
     ]
    },
    {
     "name": "stderr",
     "output_type": "stream",
     "text": [
      "[Parallel(n_jobs=2)]: Using backend ThreadingBackend with 2 concurrent workers.\n",
      "[Parallel(n_jobs=2)]: Done  46 tasks      | elapsed:    0.0s\n",
      "[Parallel(n_jobs=2)]: Done 100 out of 100 | elapsed:    0.0s finished\n",
      "[Parallel(n_jobs=2)]: Using backend ThreadingBackend with 2 concurrent workers.\n",
      "[Parallel(n_jobs=2)]: Done  46 tasks      | elapsed:    0.0s\n",
      "[Parallel(n_jobs=2)]: Done 100 out of 100 | elapsed:    0.0s finished\n"
     ]
    },
    {
     "name": "stdout",
     "output_type": "stream",
     "text": [
      "0.9166666666666666\n",
      "对未知数据预测 ****************************************\n"
     ]
    },
    {
     "name": "stderr",
     "output_type": "stream",
     "text": [
      "[Parallel(n_jobs=2)]: Using backend ThreadingBackend with 2 concurrent workers.\n",
      "[Parallel(n_jobs=2)]: Done  46 tasks      | elapsed:    0.0s\n",
      "[Parallel(n_jobs=2)]: Done 100 out of 100 | elapsed:    0.0s finished\n"
     ]
    }
   ],
   "source": [
    "# 这边joblib报错的话可以不用保存模型，用训练出来的直接预测\n",
    "# 对原始数据进行分为训练数据和测试数据\n",
    "from sklearn.model_selection import train_test_split\n",
    "from sklearn.externals import joblib\n",
    "from sklearn.ensemble import RandomForestClassifier\n",
    "import numpy as np\n",
    "import pandas as pd\n",
    "\n",
    "featureName = 'dispersion ratio', 'generate level', 'solar elevation'\n",
    "className = 'yes', 'no'\n",
    "\n",
    "# 1、读入数据，并将原始数据中的数据转换为数字形式\n",
    "data = np.loadtxt(\"data1.txt\", delimiter=\"\\t\", dtype=float,usecols=(1,2,3,4))\n",
    "data_index = np.loadtxt(\"data1.txt\", dtype=str, delimiter=\",\", usecols=0)\n",
    "dataframe = pd.DataFrame(data=data,columns=('dispersion ratio', 'generate level', 'solar elevation', 'label'),index=data_index)\n",
    "x, y = np.split(dataframe, (3,), axis=1)\n",
    "\n",
    "# 2、拆分训练数据与测试数据，为了进行交叉验证\n",
    "x_train, x_test, y_train, y_test = train_test_split(x, y, test_size=0.3,random_state=2)\n",
    "# x_train, x_test, y_train, y_test = train_test_split(x, y, test_size=0.3)\n",
    "a, b, c = np.split(x_test, 3, axis=1)\n",
    "\n",
    "# 参数分别代表n_estimators：决策树的个数，n_jobs：并行的个数，oob_score：带外数据验证 verbose： 是否显示任务进程\n",
    "clf = RandomForestClassifier(n_estimators=100, n_jobs=2, oob_score=True, verbose=1)\n",
    "print(clf)\n",
    "clf.fit(x_train,y_train)\n",
    "joblib.dump(clf, \"train_model2.m\")  # 保存模型\n",
    "print(\"训练完成\")\n",
    "\n",
    "# 用训练集验证\n",
    "answer = clf.predict(x_train)\n",
    "#y_train = y_train.reshape(-1)\n",
    "y_train1 = y_train['label']\n",
    "print(np.mean(answer == y_train1))\n",
    "\n",
    "# 用测试集验证\n",
    "answer1 = clf.predict(x_test)\n",
    "y_test1 = y_test['label']\n",
    "print(np.mean(answer1 == y_test1))\n",
    "\n",
    "#预测未知数据并保存到result(all data).csv文件中\n",
    "print(\"**\"*20,\"对未知数据预测\",\"**\"*20)\n",
    "# 1、读入数据，并将原始数据中的数据转换为数字形式\n",
    "test_data = np.loadtxt(\"alldata.txt\", delimiter=\"\\t\",dtype=float,usecols=(1,2,3))\n",
    "test_data_index = np.loadtxt(\"alldata.txt\",dtype=str,usecols=0)\n",
    "test_dataframe = pd.DataFrame(data=test_data,columns=('dispersion ratio', 'generate level', 'solar elevation'),index=test_data_index)\n",
    "# 2.读入训练好的随机森林\n",
    "clf = joblib.load(\"train_model2.m\")\n",
    "result = clf.predict(test_dataframe)\n",
    "# 3.进行预测\n",
    "test_dataframe['predict'] = result\n",
    "#4.结果写入文件\n",
    "test_dataframe.to_csv(\"result(all data).csv\")\n"
   ]
  },
  {
   "cell_type": "code",
   "execution_count": 5,
   "metadata": {
    "hidden": true,
    "scrolled": true
   },
   "outputs": [
    {
     "name": "stdout",
     "output_type": "stream",
     "text": [
      "RandomForestClassifier(bootstrap=True, ccp_alpha=0.0, class_weight=None,\n",
      "                       criterion='gini', max_depth=None, max_features='auto',\n",
      "                       max_leaf_nodes=None, max_samples=None,\n",
      "                       min_impurity_decrease=0.0, min_impurity_split=None,\n",
      "                       min_samples_leaf=1, min_samples_split=2,\n",
      "                       min_weight_fraction_leaf=0.0, n_estimators=100, n_jobs=2,\n",
      "                       oob_score=True, random_state=None, verbose=1,\n",
      "                       warm_start=False)\n"
     ]
    },
    {
     "name": "stderr",
     "output_type": "stream",
     "text": [
      "E:\\AS\\anaconda\\lib\\site-packages\\ipykernel_launcher.py:29: DataConversionWarning: A column-vector y was passed when a 1d array was expected. Please change the shape of y to (n_samples,), for example using ravel().\n",
      "[Parallel(n_jobs=2)]: Using backend ThreadingBackend with 2 concurrent workers.\n",
      "[Parallel(n_jobs=2)]: Done  46 tasks      | elapsed:    0.0s\n",
      "[Parallel(n_jobs=2)]: Done 100 out of 100 | elapsed:    0.0s finished\n"
     ]
    },
    {
     "name": "stdout",
     "output_type": "stream",
     "text": [
      "训练完成\n",
      "1.0\n"
     ]
    },
    {
     "name": "stderr",
     "output_type": "stream",
     "text": [
      "[Parallel(n_jobs=2)]: Using backend ThreadingBackend with 2 concurrent workers.\n",
      "[Parallel(n_jobs=2)]: Done  46 tasks      | elapsed:    0.0s\n",
      "[Parallel(n_jobs=2)]: Done 100 out of 100 | elapsed:    0.0s finished\n",
      "[Parallel(n_jobs=2)]: Using backend ThreadingBackend with 2 concurrent workers.\n",
      "[Parallel(n_jobs=2)]: Done  46 tasks      | elapsed:    0.0s\n",
      "[Parallel(n_jobs=2)]: Done 100 out of 100 | elapsed:    0.0s finished\n"
     ]
    },
    {
     "name": "stdout",
     "output_type": "stream",
     "text": [
      "0.9166666666666666\n"
     ]
    }
   ],
   "source": [
    "#这是原始模型\n",
    "\n",
    "# 对原始数据进行分为训练数据和测试数据\n",
    "from sklearn.model_selection import train_test_split\n",
    "# from sklearn.externals import joblib\n",
    "from sklearn.ensemble import RandomForestClassifier\n",
    "import numpy as np\n",
    "import pandas as pd\n",
    "\n",
    "featureName = 'dispersion ratio', 'generate level', 'solar elevation'\n",
    "className = 'yes', 'no'\n",
    "\n",
    "# 1、读入数据，并将原始数据中的数据转换为数字形式\n",
    "data = np.loadtxt(\"data1.txt\", delimiter=\"\\t\", dtype=float,usecols=(1,2,3,4))\n",
    "data_index = np.loadtxt(\"data1.txt\", dtype=str, delimiter=\",\", usecols=0)\n",
    "dataframe = pd.DataFrame(data=data,columns=('dispersion ratio', 'generate level', 'solar elevation', 'label'),index=data_index)\n",
    "x, y = np.split(dataframe, (3,), axis=1)\n",
    "\n",
    "# 2、拆分训练数据与测试数据，为了进行交叉验证\n",
    "x_train, x_test, y_train, y_test = train_test_split(x, y, test_size=0.3,random_state=2)\n",
    "# x_train, x_test, y_train, y_test = train_test_split(x, y, test_size=0.3)\n",
    "a, b, c = np.split(x_test, 3, axis=1)\n",
    "\n",
    "# 参数分别代表n_estimators：决策树的个数，n_jobs：并行的个数，oob_score：带外数据验证 verbose： 是否显示任务进程\n",
    "clf = RandomForestClassifier(n_estimators=100, n_jobs=2, oob_score=True, verbose=1)\n",
    "print(clf)\n",
    "clf.fit(x_train,y_train)\n",
    "# joblib.dump(clf, \"train_model2.m\")  # 保存模型\n",
    "print(\"训练完成\")\n",
    "\n",
    "# 用训练集验证\n",
    "answer = clf.predict(x_train)\n",
    "#y_train = y_train.reshape(-1)\n",
    "y_train1 = y_train['label']\n",
    "print(np.mean(answer == y_train1))\n",
    "\n",
    "# 用测试集验证\n",
    "answer1 = clf.predict(x_test)\n",
    "y_test1 = y_test['label']\n",
    "print(np.mean(answer1 == y_test1))\n",
    "\n",
    "\n"
   ]
  },
  {
   "cell_type": "code",
   "execution_count": null,
   "metadata": {
    "hidden": true
   },
   "outputs": [],
   "source": [
    "\n",
    "#coding:utf-8\n",
    "#!/usr/bin/python\n",
    "# 对原始数据进行分为训练数据和测试数据\n",
    "from sklearn.model_selection import train_test_split\n",
    "from sklearn.externals import joblib\n",
    "from sklearn.ensemble import RandomForestClassifier\n",
    "import numpy as np\n",
    "import pandas as pd\n",
    "\n",
    "# 1、读入数据，并将原始数据中的数据转换为数字形式\n",
    "test_data = np.loadtxt(\"alldata.txt\", delimiter=\"\\t\",dtype=float,usecols=(1,2,3))\n",
    "test_data_index = np.loadtxt(\"alldata.txt\",dtype=str,usecols=0)\n",
    "test_dataframe = pd.DataFrame(data=test_data,columns=('dispersion ratio', 'generate level', 'solar elevation'),index=test_data_index)\n",
    "# 2.读入训练好的随机森林\n",
    "clf = joblib.load(\"train_model2.m\")\n",
    "result = clf.predict(test_dataframe)\n",
    "# 3.进行预测\n",
    "test_dataframe['predict'] = result\n",
    "#4.结果写入文件\n",
    "test_dataframe.to_csv(\"result(all data).csv\")"
   ]
  },
  {
   "cell_type": "code",
   "execution_count": null,
   "metadata": {},
   "outputs": [],
   "source": []
  }
 ],
 "metadata": {
  "kernelspec": {
   "display_name": "Python 3",
   "language": "python",
   "name": "python3"
  },
  "language_info": {
   "codemirror_mode": {
    "name": "ipython",
    "version": 3
   },
   "file_extension": ".py",
   "mimetype": "text/x-python",
   "name": "python",
   "nbconvert_exporter": "python",
   "pygments_lexer": "ipython3",
   "version": "3.7.4"
  },
  "varInspector": {
   "cols": {
    "lenName": 16,
    "lenType": 16,
    "lenVar": 40
   },
   "kernels_config": {
    "python": {
     "delete_cmd_postfix": "",
     "delete_cmd_prefix": "del ",
     "library": "var_list.py",
     "varRefreshCmd": "print(var_dic_list())"
    },
    "r": {
     "delete_cmd_postfix": ") ",
     "delete_cmd_prefix": "rm(",
     "library": "var_list.r",
     "varRefreshCmd": "cat(var_dic_list()) "
    }
   },
   "types_to_exclude": [
    "module",
    "function",
    "builtin_function_or_method",
    "instance",
    "_Feature"
   ],
   "window_display": false
  }
 },
 "nbformat": 4,
 "nbformat_minor": 4
}
