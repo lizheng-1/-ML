{
 "cells": [
  {
   "cell_type": "code",
   "execution_count": 42,
   "metadata": {},
   "outputs": [
    {
     "data": {
      "text/html": [
       "<div>\n",
       "<style scoped>\n",
       "    .dataframe tbody tr th:only-of-type {\n",
       "        vertical-align: middle;\n",
       "    }\n",
       "\n",
       "    .dataframe tbody tr th {\n",
       "        vertical-align: top;\n",
       "    }\n",
       "\n",
       "    .dataframe thead th {\n",
       "        text-align: right;\n",
       "    }\n",
       "</style>\n",
       "<table border=\"1\" class=\"dataframe\">\n",
       "  <thead>\n",
       "    <tr style=\"text-align: right;\">\n",
       "      <th></th>\n",
       "      <th>Unnamed: 0</th>\n",
       "      <th>信誉评级</th>\n",
       "      <th>是否违约</th>\n",
       "    </tr>\n",
       "  </thead>\n",
       "  <tbody>\n",
       "    <tr>\n",
       "      <th>0</th>\n",
       "      <td>1</td>\n",
       "      <td>A</td>\n",
       "      <td>否</td>\n",
       "    </tr>\n",
       "    <tr>\n",
       "      <th>1</th>\n",
       "      <td>2</td>\n",
       "      <td>A</td>\n",
       "      <td>否</td>\n",
       "    </tr>\n",
       "    <tr>\n",
       "      <th>2</th>\n",
       "      <td>3</td>\n",
       "      <td>C</td>\n",
       "      <td>否</td>\n",
       "    </tr>\n",
       "    <tr>\n",
       "      <th>3</th>\n",
       "      <td>4</td>\n",
       "      <td>C</td>\n",
       "      <td>否</td>\n",
       "    </tr>\n",
       "    <tr>\n",
       "      <th>4</th>\n",
       "      <td>5</td>\n",
       "      <td>B</td>\n",
       "      <td>否</td>\n",
       "    </tr>\n",
       "    <tr>\n",
       "      <th>...</th>\n",
       "      <td>...</td>\n",
       "      <td>...</td>\n",
       "      <td>...</td>\n",
       "    </tr>\n",
       "    <tr>\n",
       "      <th>118</th>\n",
       "      <td>119</td>\n",
       "      <td>D</td>\n",
       "      <td>是</td>\n",
       "    </tr>\n",
       "    <tr>\n",
       "      <th>119</th>\n",
       "      <td>120</td>\n",
       "      <td>D</td>\n",
       "      <td>是</td>\n",
       "    </tr>\n",
       "    <tr>\n",
       "      <th>120</th>\n",
       "      <td>121</td>\n",
       "      <td>D</td>\n",
       "      <td>是</td>\n",
       "    </tr>\n",
       "    <tr>\n",
       "      <th>121</th>\n",
       "      <td>122</td>\n",
       "      <td>D</td>\n",
       "      <td>是</td>\n",
       "    </tr>\n",
       "    <tr>\n",
       "      <th>122</th>\n",
       "      <td>123</td>\n",
       "      <td>D</td>\n",
       "      <td>是</td>\n",
       "    </tr>\n",
       "  </tbody>\n",
       "</table>\n",
       "<p>123 rows × 3 columns</p>\n",
       "</div>"
      ],
      "text/plain": [
       "     Unnamed: 0 信誉评级 是否违约\n",
       "0             1    A    否\n",
       "1             2    A    否\n",
       "2             3    C    否\n",
       "3             4    C    否\n",
       "4             5    B    否\n",
       "..          ...  ...  ...\n",
       "118         119    D    是\n",
       "119         120    D    是\n",
       "120         121    D    是\n",
       "121         122    D    是\n",
       "122         123    D    是\n",
       "\n",
       "[123 rows x 3 columns]"
      ]
     },
     "execution_count": 42,
     "metadata": {},
     "output_type": "execute_result"
    }
   ],
   "source": [
    "import pandas as pd\n",
    "data11=pd.read_excel('C:/Users/李征/Documents/a国赛/11.xlsx')\n",
    "data11"
   ]
  },
  {
   "cell_type": "code",
   "execution_count": 46,
   "metadata": {},
   "outputs": [
    {
     "data": {
      "text/plain": [
       "array([[1, 'A', '否'],\n",
       "       [2, 'A', '否'],\n",
       "       [3, 'C', '否'],\n",
       "       [4, 'C', '否'],\n",
       "       [5, 'B', '否'],\n",
       "       [6, 'A', '否'],\n",
       "       [7, 'A', '否'],\n",
       "       [8, 'A', '否'],\n",
       "       [9, 'A', '否'],\n",
       "       [10, 'B', '否'],\n",
       "       [11, 'C', '否'],\n",
       "       [12, 'B', '否'],\n",
       "       [13, 'A', '否'],\n",
       "       [14, 'C', '否'],\n",
       "       [15, 'A', '否'],\n",
       "       [16, 'A', '否'],\n",
       "       [17, 'A', '否'],\n",
       "       [18, 'A', '否'],\n",
       "       [19, 'A', '否'],\n",
       "       [20, 'B', '否'],\n",
       "       [21, 'B', '否'],\n",
       "       [22, 'A', '否'],\n",
       "       [23, 'B', '否'],\n",
       "       [24, 'A', '否'],\n",
       "       [25, 'C', '否'],\n",
       "       [26, 'A', '否'],\n",
       "       [27, 'A', '否'],\n",
       "       [28, 'B', '否'],\n",
       "       [29, 'C', '是'],\n",
       "       [30, 'B', '否'],\n",
       "       [31, 'A', '否'],\n",
       "       [32, 'B', '否'],\n",
       "       [33, 'B', '否'],\n",
       "       [34, 'B', '否'],\n",
       "       [35, 'B', '否'],\n",
       "       [36, 'D', '是'],\n",
       "       [37, 'B', '否'],\n",
       "       [38, 'B', '否'],\n",
       "       [39, 'C', '否'],\n",
       "       [40, 'C', '否'],\n",
       "       [41, 'C', '否'],\n",
       "       [42, 'A', '否'],\n",
       "       [43, 'B', '否'],\n",
       "       [44, 'C', '否'],\n",
       "       [45, 'B', '是'],\n",
       "       [46, 'C', '否'],\n",
       "       [47, 'C', '否'],\n",
       "       [48, 'A', '否'],\n",
       "       [49, 'C', '否'],\n",
       "       [50, 'C', '否'],\n",
       "       [51, 'B', '否'],\n",
       "       [52, 'D', '是'],\n",
       "       [53, 'C', '否'],\n",
       "       [54, 'A', '否'],\n",
       "       [55, 'C', '否'],\n",
       "       [56, 'C', '否'],\n",
       "       [57, 'B', '否'],\n",
       "       [58, 'B', '否'],\n",
       "       [59, 'A', '否'],\n",
       "       [60, 'B', '否'],\n",
       "       [61, 'B', '否'],\n",
       "       [62, 'B', '否'],\n",
       "       [63, 'B', '否'],\n",
       "       [64, 'A', '否'],\n",
       "       [65, 'B', '否'],\n",
       "       [66, 'B', '否'],\n",
       "       [67, 'B', '否'],\n",
       "       [68, 'C', '否'],\n",
       "       [69, 'C', '否'],\n",
       "       [70, 'B', '否'],\n",
       "       [71, 'B', '否'],\n",
       "       [72, 'C', '否'],\n",
       "       [73, 'C', '否'],\n",
       "       [74, 'B', '否'],\n",
       "       [75, 'C', '否'],\n",
       "       [76, 'B', '否'],\n",
       "       [77, 'C', '否'],\n",
       "       [78, 'C', '否'],\n",
       "       [79, 'B', '否'],\n",
       "       [80, 'C', '否'],\n",
       "       [81, 'A', '否'],\n",
       "       [82, 'D', '是'],\n",
       "       [83, 'B', '否'],\n",
       "       [84, 'A', '否'],\n",
       "       [85, 'B', '否'],\n",
       "       [86, 'C', '否'],\n",
       "       [87, 'C', '是'],\n",
       "       [88, 'A', '否'],\n",
       "       [89, 'A', '否'],\n",
       "       [90, 'C', '否'],\n",
       "       [91, 'A', '否'],\n",
       "       [92, 'C', '否'],\n",
       "       [93, 'B', '否'],\n",
       "       [94, 'C', '否'],\n",
       "       [95, 'B', '否'],\n",
       "       [96, 'C', '否'],\n",
       "       [97, 'B', '否'],\n",
       "       [98, 'B', '否'],\n",
       "       [99, 'D', '是'],\n",
       "       [100, 'D', '是'],\n",
       "       [101, 'D', '是'],\n",
       "       [102, 'D', '是'],\n",
       "       [103, 'D', '是'],\n",
       "       [104, 'C', '否'],\n",
       "       [105, 'C', '否'],\n",
       "       [106, 'B', '否'],\n",
       "       [107, 'D', '是'],\n",
       "       [108, 'D', '是'],\n",
       "       [109, 'D', '是'],\n",
       "       [110, 'C', '否'],\n",
       "       [111, 'D', '是'],\n",
       "       [112, 'D', '是'],\n",
       "       [113, 'D', '是'],\n",
       "       [114, 'D', '是'],\n",
       "       [115, 'D', '是'],\n",
       "       [116, 'D', '是'],\n",
       "       [117, 'D', '是'],\n",
       "       [118, 'D', '是'],\n",
       "       [119, 'D', '是'],\n",
       "       [120, 'D', '是'],\n",
       "       [121, 'D', '是'],\n",
       "       [122, 'D', '是'],\n",
       "       [123, 'D', '是']], dtype=object)"
      ]
     },
     "execution_count": 46,
     "metadata": {},
     "output_type": "execute_result"
    }
   ],
   "source": [
    "values11=data11.values\n",
    "values11"
   ]
  },
  {
   "cell_type": "code",
   "execution_count": 29,
   "metadata": {},
   "outputs": [
    {
     "data": {
      "text/plain": [
       "array(['否', '否', '否', '否', '否', '否', '否', '否', '否', '否', '否', '否', '否',\n",
       "       '否', '否', '否', '否', '否', '否', '否', '否', '否', '否', '否', '否', '否',\n",
       "       '否', '否', '是', '否', '否', '否', '否', '否', '否', '是', '否', '否', '否',\n",
       "       '否', '否', '否', '否', '否', '是', '否', '否', '否', '否', '否', '否', '是',\n",
       "       '否', '否', '否', '否', '否', '否', '否', '否', '否', '否', '否', '否', '否',\n",
       "       '否', '否', '否', '否', '否', '否', '否', '否', '否', '否', '否', '否', '否',\n",
       "       '否', '否', '否', '是', '否', '否', '否', '否', '是', '否', '否', '否', '否',\n",
       "       '否', '否', '否', '否', '否', '否', '否', '是', '是', '是', '是', '是', '否',\n",
       "       '否', '否', '是', '是', '是', '否', '是', '是', '是', '是', '是', '是', '是',\n",
       "       '是', '是', '是', '是', '是', '是'], dtype=object)"
      ]
     },
     "execution_count": 29,
     "metadata": {},
     "output_type": "execute_result"
    }
   ],
   "source": [
    "values11[:,2]"
   ]
  },
  {
   "cell_type": "code",
   "execution_count": 47,
   "metadata": {},
   "outputs": [],
   "source": [
    "j=0\n",
    "for i in values11[:,2]:\n",
    "    if i ==\"否\":\n",
    "        values11[:,2][j]=0\n",
    "    else:\n",
    "        values11[:,2][j]=1\n",
    "    j+=1"
   ]
  },
  {
   "cell_type": "code",
   "execution_count": 34,
   "metadata": {},
   "outputs": [
    {
     "data": {
      "text/plain": [
       "123"
      ]
     },
     "execution_count": 34,
     "metadata": {},
     "output_type": "execute_result"
    }
   ],
   "source": [
    "len(values11)"
   ]
  },
  {
   "cell_type": "code",
   "execution_count": 48,
   "metadata": {},
   "outputs": [
    {
     "data": {
      "text/plain": [
       "array([[1, 4, 0],\n",
       "       [2, 4, 0],\n",
       "       [3, 2, 0],\n",
       "       [4, 2, 0],\n",
       "       [5, 3, 0],\n",
       "       [6, 4, 0],\n",
       "       [7, 4, 0],\n",
       "       [8, 4, 0],\n",
       "       [9, 4, 0],\n",
       "       [10, 3, 0],\n",
       "       [11, 2, 0],\n",
       "       [12, 3, 0],\n",
       "       [13, 4, 0],\n",
       "       [14, 2, 0],\n",
       "       [15, 4, 0],\n",
       "       [16, 4, 0],\n",
       "       [17, 4, 0],\n",
       "       [18, 4, 0],\n",
       "       [19, 4, 0],\n",
       "       [20, 3, 0],\n",
       "       [21, 3, 0],\n",
       "       [22, 4, 0],\n",
       "       [23, 3, 0],\n",
       "       [24, 4, 0],\n",
       "       [25, 2, 0],\n",
       "       [26, 4, 0],\n",
       "       [27, 4, 0],\n",
       "       [28, 3, 0],\n",
       "       [29, 2, 1],\n",
       "       [30, 3, 0],\n",
       "       [31, 4, 0],\n",
       "       [32, 3, 0],\n",
       "       [33, 3, 0],\n",
       "       [34, 3, 0],\n",
       "       [35, 3, 0],\n",
       "       [36, 1, 1],\n",
       "       [37, 3, 0],\n",
       "       [38, 3, 0],\n",
       "       [39, 2, 0],\n",
       "       [40, 2, 0],\n",
       "       [41, 2, 0],\n",
       "       [42, 4, 0],\n",
       "       [43, 3, 0],\n",
       "       [44, 2, 0],\n",
       "       [45, 3, 1],\n",
       "       [46, 2, 0],\n",
       "       [47, 2, 0],\n",
       "       [48, 4, 0],\n",
       "       [49, 2, 0],\n",
       "       [50, 2, 0],\n",
       "       [51, 3, 0],\n",
       "       [52, 1, 1],\n",
       "       [53, 2, 0],\n",
       "       [54, 4, 0],\n",
       "       [55, 2, 0],\n",
       "       [56, 2, 0],\n",
       "       [57, 3, 0],\n",
       "       [58, 3, 0],\n",
       "       [59, 4, 0],\n",
       "       [60, 3, 0],\n",
       "       [61, 3, 0],\n",
       "       [62, 3, 0],\n",
       "       [63, 3, 0],\n",
       "       [64, 4, 0],\n",
       "       [65, 3, 0],\n",
       "       [66, 3, 0],\n",
       "       [67, 3, 0],\n",
       "       [68, 2, 0],\n",
       "       [69, 2, 0],\n",
       "       [70, 3, 0],\n",
       "       [71, 3, 0],\n",
       "       [72, 2, 0],\n",
       "       [73, 2, 0],\n",
       "       [74, 3, 0],\n",
       "       [75, 2, 0],\n",
       "       [76, 3, 0],\n",
       "       [77, 2, 0],\n",
       "       [78, 2, 0],\n",
       "       [79, 3, 0],\n",
       "       [80, 2, 0],\n",
       "       [81, 4, 0],\n",
       "       [82, 1, 1],\n",
       "       [83, 3, 0],\n",
       "       [84, 4, 0],\n",
       "       [85, 3, 0],\n",
       "       [86, 2, 0],\n",
       "       [87, 2, 1],\n",
       "       [88, 4, 0],\n",
       "       [89, 4, 0],\n",
       "       [90, 2, 0],\n",
       "       [91, 4, 0],\n",
       "       [92, 2, 0],\n",
       "       [93, 3, 0],\n",
       "       [94, 2, 0],\n",
       "       [95, 3, 0],\n",
       "       [96, 2, 0],\n",
       "       [97, 3, 0],\n",
       "       [98, 3, 0],\n",
       "       [99, 1, 1],\n",
       "       [100, 1, 1],\n",
       "       [101, 1, 1],\n",
       "       [102, 1, 1],\n",
       "       [103, 1, 1],\n",
       "       [104, 2, 0],\n",
       "       [105, 2, 0],\n",
       "       [106, 3, 0],\n",
       "       [107, 1, 1],\n",
       "       [108, 1, 1],\n",
       "       [109, 1, 1],\n",
       "       [110, 2, 0],\n",
       "       [111, 1, 1],\n",
       "       [112, 1, 1],\n",
       "       [113, 1, 1],\n",
       "       [114, 1, 1],\n",
       "       [115, 1, 1],\n",
       "       [116, 1, 1],\n",
       "       [117, 1, 1],\n",
       "       [118, 1, 1],\n",
       "       [119, 1, 1],\n",
       "       [120, 1, 1],\n",
       "       [121, 1, 1],\n",
       "       [122, 1, 1],\n",
       "       [123, 1, 1]], dtype=object)"
      ]
     },
     "execution_count": 48,
     "metadata": {},
     "output_type": "execute_result"
    }
   ],
   "source": [
    "for i in range(len(values11)):    \n",
    "    if values11[:,1][i] ==\"A\":\n",
    "        values11[:,1][i]=4\n",
    "    elif values11[:,1][i] ==\"B\":\n",
    "        values11[:,1][i]=3\n",
    "    elif values11[:,1][i] ==\"C\":\n",
    "        values11[:,1][i]=2\n",
    "    elif values11[:,1][i] ==\"D\":\n",
    "        values11[:,1][i]=1\n",
    "values11\n"
   ]
  },
  {
   "cell_type": "code",
   "execution_count": 63,
   "metadata": {},
   "outputs": [
    {
     "ename": "TypeError",
     "evalue": "'DataFrame' objects are mutable, thus they cannot be hashed",
     "output_type": "error",
     "traceback": [
      "\u001b[1;31m---------------------------------------------------------------------------\u001b[0m",
      "\u001b[1;31mTypeError\u001b[0m                                 Traceback (most recent call last)",
      "\u001b[1;32m<ipython-input-63-e0e8d677e631>\u001b[0m in \u001b[0;36m<module>\u001b[1;34m\u001b[0m\n\u001b[0;32m      1\u001b[0m \u001b[0mdf1\u001b[0m \u001b[1;33m=\u001b[0m \u001b[0mpd\u001b[0m\u001b[1;33m.\u001b[0m\u001b[0mDataFrame\u001b[0m\u001b[1;33m(\u001b[0m\u001b[0mvalues11\u001b[0m\u001b[1;33m)\u001b[0m\u001b[1;33m\u001b[0m\u001b[1;33m\u001b[0m\u001b[0m\n\u001b[1;32m----> 2\u001b[1;33m \u001b[0mdf1\u001b[0m\u001b[1;33m.\u001b[0m\u001b[0mto_excel\u001b[0m\u001b[1;33m(\u001b[0m\u001b[1;34m'test_excel.xlsx'\u001b[0m\u001b[1;33m,\u001b[0m\u001b[0mdf1\u001b[0m\u001b[1;33m)\u001b[0m\u001b[1;33m\u001b[0m\u001b[1;33m\u001b[0m\u001b[0m\n\u001b[0m",
      "\u001b[1;32mE:\\AS\\anaconda\\lib\\site-packages\\pandas\\core\\generic.py\u001b[0m in \u001b[0;36mto_excel\u001b[1;34m(self, excel_writer, sheet_name, na_rep, float_format, columns, header, index, index_label, startrow, startcol, engine, merge_cells, encoding, inf_rep, verbose, freeze_panes)\u001b[0m\n\u001b[0;32m   2179\u001b[0m             \u001b[0mstartcol\u001b[0m\u001b[1;33m=\u001b[0m\u001b[0mstartcol\u001b[0m\u001b[1;33m,\u001b[0m\u001b[1;33m\u001b[0m\u001b[1;33m\u001b[0m\u001b[0m\n\u001b[0;32m   2180\u001b[0m             \u001b[0mfreeze_panes\u001b[0m\u001b[1;33m=\u001b[0m\u001b[0mfreeze_panes\u001b[0m\u001b[1;33m,\u001b[0m\u001b[1;33m\u001b[0m\u001b[1;33m\u001b[0m\u001b[0m\n\u001b[1;32m-> 2181\u001b[1;33m             \u001b[0mengine\u001b[0m\u001b[1;33m=\u001b[0m\u001b[0mengine\u001b[0m\u001b[1;33m,\u001b[0m\u001b[1;33m\u001b[0m\u001b[1;33m\u001b[0m\u001b[0m\n\u001b[0m\u001b[0;32m   2182\u001b[0m         )\n\u001b[0;32m   2183\u001b[0m \u001b[1;33m\u001b[0m\u001b[0m\n",
      "\u001b[1;32mE:\\AS\\anaconda\\lib\\site-packages\\pandas\\io\\formats\\excel.py\u001b[0m in \u001b[0;36mwrite\u001b[1;34m(self, writer, sheet_name, startrow, startcol, freeze_panes, engine)\u001b[0m\n\u001b[0;32m    733\u001b[0m             \u001b[0mstartrow\u001b[0m\u001b[1;33m=\u001b[0m\u001b[0mstartrow\u001b[0m\u001b[1;33m,\u001b[0m\u001b[1;33m\u001b[0m\u001b[1;33m\u001b[0m\u001b[0m\n\u001b[0;32m    734\u001b[0m             \u001b[0mstartcol\u001b[0m\u001b[1;33m=\u001b[0m\u001b[0mstartcol\u001b[0m\u001b[1;33m,\u001b[0m\u001b[1;33m\u001b[0m\u001b[1;33m\u001b[0m\u001b[0m\n\u001b[1;32m--> 735\u001b[1;33m             \u001b[0mfreeze_panes\u001b[0m\u001b[1;33m=\u001b[0m\u001b[0mfreeze_panes\u001b[0m\u001b[1;33m,\u001b[0m\u001b[1;33m\u001b[0m\u001b[1;33m\u001b[0m\u001b[0m\n\u001b[0m\u001b[0;32m    736\u001b[0m         )\n\u001b[0;32m    737\u001b[0m         \u001b[1;32mif\u001b[0m \u001b[0mneed_save\u001b[0m\u001b[1;33m:\u001b[0m\u001b[1;33m\u001b[0m\u001b[1;33m\u001b[0m\u001b[0m\n",
      "\u001b[1;32mE:\\AS\\anaconda\\lib\\site-packages\\pandas\\io\\excel\\_xlsxwriter.py\u001b[0m in \u001b[0;36mwrite_cells\u001b[1;34m(self, cells, sheet_name, startrow, startcol, freeze_panes)\u001b[0m\n\u001b[0;32m    201\u001b[0m         \u001b[0msheet_name\u001b[0m \u001b[1;33m=\u001b[0m \u001b[0mself\u001b[0m\u001b[1;33m.\u001b[0m\u001b[0m_get_sheet_name\u001b[0m\u001b[1;33m(\u001b[0m\u001b[0msheet_name\u001b[0m\u001b[1;33m)\u001b[0m\u001b[1;33m\u001b[0m\u001b[1;33m\u001b[0m\u001b[0m\n\u001b[0;32m    202\u001b[0m \u001b[1;33m\u001b[0m\u001b[0m\n\u001b[1;32m--> 203\u001b[1;33m         \u001b[1;32mif\u001b[0m \u001b[0msheet_name\u001b[0m \u001b[1;32min\u001b[0m \u001b[0mself\u001b[0m\u001b[1;33m.\u001b[0m\u001b[0msheets\u001b[0m\u001b[1;33m:\u001b[0m\u001b[1;33m\u001b[0m\u001b[1;33m\u001b[0m\u001b[0m\n\u001b[0m\u001b[0;32m    204\u001b[0m             \u001b[0mwks\u001b[0m \u001b[1;33m=\u001b[0m \u001b[0mself\u001b[0m\u001b[1;33m.\u001b[0m\u001b[0msheets\u001b[0m\u001b[1;33m[\u001b[0m\u001b[0msheet_name\u001b[0m\u001b[1;33m]\u001b[0m\u001b[1;33m\u001b[0m\u001b[1;33m\u001b[0m\u001b[0m\n\u001b[0;32m    205\u001b[0m         \u001b[1;32melse\u001b[0m\u001b[1;33m:\u001b[0m\u001b[1;33m\u001b[0m\u001b[1;33m\u001b[0m\u001b[0m\n",
      "\u001b[1;32mE:\\AS\\anaconda\\lib\\site-packages\\pandas\\core\\generic.py\u001b[0m in \u001b[0;36m__hash__\u001b[1;34m(self)\u001b[0m\n\u001b[0;32m   1797\u001b[0m     \u001b[1;32mdef\u001b[0m \u001b[0m__hash__\u001b[0m\u001b[1;33m(\u001b[0m\u001b[0mself\u001b[0m\u001b[1;33m)\u001b[0m\u001b[1;33m:\u001b[0m\u001b[1;33m\u001b[0m\u001b[1;33m\u001b[0m\u001b[0m\n\u001b[0;32m   1798\u001b[0m         raise TypeError(\n\u001b[1;32m-> 1799\u001b[1;33m             \u001b[1;34mf\"{repr(type(self).__name__)} objects are mutable, \"\u001b[0m\u001b[1;33m\u001b[0m\u001b[1;33m\u001b[0m\u001b[0m\n\u001b[0m\u001b[0;32m   1800\u001b[0m             \u001b[1;34mf\"thus they cannot be hashed\"\u001b[0m\u001b[1;33m\u001b[0m\u001b[1;33m\u001b[0m\u001b[0m\n\u001b[0;32m   1801\u001b[0m         )\n",
      "\u001b[1;31mTypeError\u001b[0m: 'DataFrame' objects are mutable, thus they cannot be hashed"
     ]
    }
   ],
   "source": [
    "df1 = pd.DataFrame(values11)\n",
    "df1.to_excel('test_excel.xlsx',df1)"
   ]
  },
  {
   "cell_type": "code",
   "execution_count": 60,
   "metadata": {},
   "outputs": [
    {
     "data": {
      "text/plain": [
       "numpy.ndarray"
      ]
     },
     "execution_count": 60,
     "metadata": {},
     "output_type": "execute_result"
    }
   ],
   "source": [
    "type(values11)"
   ]
  },
  {
   "cell_type": "code",
   "execution_count": 52,
   "metadata": {},
   "outputs": [],
   "source": [
    "A = np.array([[1,2,3],[4,5,6]])\n",
    "df = pd.DataFrame(A)\n",
    "df.to_excel('test_excel.xlsx',sheet_name='A')\n",
    "\n"
   ]
  },
  {
   "cell_type": "code",
   "execution_count": 61,
   "metadata": {},
   "outputs": [
    {
     "data": {
      "text/plain": [
       "numpy.ndarray"
      ]
     },
     "execution_count": 61,
     "metadata": {},
     "output_type": "execute_result"
    }
   ],
   "source": [
    "A = np.array([[1,2,3],[4,5,6]])\n",
    "df = pd.DataFrame(A)\n",
    "type(A)"
   ]
  },
  {
   "cell_type": "code",
   "execution_count": null,
   "metadata": {},
   "outputs": [],
   "source": []
  }
 ],
 "metadata": {
  "kernelspec": {
   "display_name": "Python 3",
   "language": "python",
   "name": "python3"
  },
  "language_info": {
   "codemirror_mode": {
    "name": "ipython",
    "version": 3
   },
   "file_extension": ".py",
   "mimetype": "text/x-python",
   "name": "python",
   "nbconvert_exporter": "python",
   "pygments_lexer": "ipython3",
   "version": "3.7.4"
  },
  "varInspector": {
   "cols": {
    "lenName": 16,
    "lenType": 16,
    "lenVar": 40
   },
   "kernels_config": {
    "python": {
     "delete_cmd_postfix": "",
     "delete_cmd_prefix": "del ",
     "library": "var_list.py",
     "varRefreshCmd": "print(var_dic_list())"
    },
    "r": {
     "delete_cmd_postfix": ") ",
     "delete_cmd_prefix": "rm(",
     "library": "var_list.r",
     "varRefreshCmd": "cat(var_dic_list()) "
    }
   },
   "types_to_exclude": [
    "module",
    "function",
    "builtin_function_or_method",
    "instance",
    "_Feature"
   ],
   "window_display": false
  }
 },
 "nbformat": 4,
 "nbformat_minor": 4
}
